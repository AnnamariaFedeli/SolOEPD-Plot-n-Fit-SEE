{
 "cells": [
  {
   "cell_type": "markdown",
   "id": "0f040b54",
   "metadata": {},
   "source": [
    "# Notebook to plot and fit SolO EPD SEE data"
   ]
  },
  {
   "cell_type": "code",
   "execution_count": 6,
   "id": "ec26efc7",
   "metadata": {},
   "outputs": [],
   "source": [
    "from epd_plot_shift import *\n",
    "#from run_the_fit import *\n",
    "#%pip install git+https://github.com/jgieseler/solo-epd-loader --upgrade"
   ]
  },
  {
   "cell_type": "markdown",
   "id": "6f84ff7a",
   "metadata": {},
   "source": [
    "#### Info about the notebook:\n",
    "Choose a folder where you wish to save the data from the plotting and fitting process. \n",
    "<br>A new folder will be created for each separate event if specified by the user. \n",
    "<br>The parameters from the fitting process will be saved into csv files and stored into a separate folder. \n",
    "<br>These files can be combined by using the '''''' function. Note that only the fit corresponding to the best \n",
    "reduced chisq should be saved to this folder. "
   ]
  },
  {
   "cell_type": "code",
   "execution_count": 7,
   "id": "53618669",
   "metadata": {},
   "outputs": [],
   "source": [
    "path_to_folder = ''\n",
    "create_sub_folders = False"
   ]
  },
  {
   "cell_type": "markdown",
   "id": "f84fcaee",
   "metadata": {},
   "source": [
    "#### Parameters for plotting the data, saving the files and making the new folders\n",
    "Do not change the folder. This will be used to create folders for new events. If the path is changed, the functions will create unnecessary copies of the data."
   ]
  },
  {
   "cell_type": "code",
   "execution_count": 8,
   "id": "39ac2367",
   "metadata": {},
   "outputs": [],
   "source": [
    "date = '2021-10-28-hhmm' #will use this to create new folders"
   ]
  },
  {
   "cell_type": "code",
   "execution_count": 9,
   "id": "9e2c0a50",
   "metadata": {},
   "outputs": [
    {
     "data": {
      "text/plain": [
       "'20211028'"
      ]
     },
     "execution_count": 9,
     "metadata": {},
     "output_type": "execute_result"
    }
   ],
   "source": [
    "date[:10].replace('-', '')"
   ]
  },
  {
   "cell_type": "code",
   "execution_count": 5,
   "id": "44b7721a",
   "metadata": {},
   "outputs": [
    {
     "name": "stdout",
     "output_type": "stream",
     "text": [
      "INFO: Obtained JPL HORIZONS location for Solar Orbiter (spacecraft) (-144 [sunpy.coordinates.ephemeris]\n",
      "-------------------------------------------  -----  ---------\n",
      "Distance of SolO from the Sun                [AU]    0.8\n",
      "Length of the Parker Spiral for 400 km/s sw  [AU]    0.883188\n",
      "Travel time of 4 KeV electrons               [min]  59.0474\n",
      "Travel time of 10 MeV electrons              [min]   7.35395\n",
      "Travel time of light                         [min]   6.6534\n",
      "-------------------------------------------  -----  ---------\n"
     ]
    },
    {
     "name": "stderr",
     "output_type": "stream",
     "text": [
      "WARNING: AstropyDeprecationWarning: ``id_type``s 'majorbody' and 'id' are deprecated and replaced with ``None``, which has the same functionality. [astroquery.jplhorizons.core]\n"
     ]
    }
   ],
   "source": [
    "position = posintion_and_traveltime(date[:10])"
   ]
  },
  {
   "cell_type": "code",
   "execution_count": null,
   "id": "08297c96",
   "metadata": {},
   "outputs": [],
   "source": []
  },
  {
   "cell_type": "markdown",
   "id": "ab875500",
   "metadata": {},
   "source": [
    "#### Input a date and an approximate injection time for the event you wish to analyse in the format:\n",
    "<br>date = yyyyMMdd\n",
    "<br>inj_time = hhmm"
   ]
  },
  {
   "cell_type": "code",
   "execution_count": null,
   "id": "bc856226",
   "metadata": {},
   "outputs": [],
   "source": [
    "# Start and end day. Format: yyyymmdd.\n",
    "start_date = date[:10].replace('-', '')\n",
    "end_date = date[:10].replace('-', '')\n",
    "\n",
    "# plot start and end format 'YYYY-MM-DD-HHmm'\n",
    "plot_start = '2021-10-28-1200'\n",
    "plot_end = '2021-10-28-1730'\n",
    "\n",
    "# Backgroud window:\n",
    "# Default values: bg_start= None, bg_end = None, bg_distance_from_window = None, bg_period = None\n",
    "# You can either specify a time period by using the same format as for plot_start and plot_end for bg_start and bg_end\n",
    "# If you specify bg_start and bg_end set bg_distance_from_window and bg_period to None\n",
    "# For a moving background window set bg_start and bg_end to None and specify bg_distance_from_window and bg_period\n",
    "# bg_distance_from_window is the distance of the background window start time from the peak window\n",
    "# the input for bg_distance_from_window is in minutes\n",
    "# bg_period is the length of the bg in minutes\n",
    "# by specifying bg_distance_from_window and bg_period the bg will follow the first slope of the peak window\n",
    "bg_start = None #'2021-10-09-0400' \n",
    "bg_end = None #'2021-10-09-0500'\n",
    "bg_distance_from_window = 120\n",
    "bg_period = 60\n",
    "\n",
    "# injection time Format: yyyy-mm-dd-hhmm.\n",
    "# Need to subtract the light travel time at SolO distance because the Raul inj. times\n",
    "# in the STIX/EPD table are shifted from sun to SolO and I need inj. time at the Sun\n",
    "t_inj = '2021-10-28-1626'\n",
    "\n",
    "# For a fixed non sliding window input travel_distance = 0, \n",
    "# travel_distance_second_slope = None, fixed_window = period in minutes\n",
    "# For a fixed sliding window input travel_distance = distance in AU,\n",
    "# travel_distance_second_slope = None, fixed_window = period in minutes\n",
    "# for two slopes input travel_distance = distance in AU, \n",
    "# travel_distance_second_slope = distance 2 in AU, fixed_window = None\n",
    "travel_distance = dist\n",
    "travel_distance_second_slope = None\n",
    "fixed_window = 60 #either input time period in minutes or None\n",
    "frac_nan_threshold = 0.9  # exclude all spectrum values with fraction of non-nan data points in search period lower than this\n",
    "\n",
    "\n",
    "\n",
    "# Averaging. 'mean' = rolling mean, 'none' = no averaging.\n",
    "averaging_mode = 'mean'\n",
    "averaging = 2"
   ]
  },
  {
   "cell_type": "code",
   "execution_count": null,
   "id": "349457ab",
   "metadata": {},
   "outputs": [],
   "source": [
    "\n"
   ]
  },
  {
   "cell_type": "code",
   "execution_count": null,
   "id": "62599e3c",
   "metadata": {},
   "outputs": [],
   "source": []
  }
 ],
 "metadata": {
  "kernelspec": {
   "display_name": "Python 3 (ipykernel)",
   "language": "python",
   "name": "python3"
  },
  "language_info": {
   "codemirror_mode": {
    "name": "ipython",
    "version": 3
   },
   "file_extension": ".py",
   "mimetype": "text/x-python",
   "name": "python",
   "nbconvert_exporter": "python",
   "pygments_lexer": "ipython3",
   "version": "3.10.4"
  }
 },
 "nbformat": 4,
 "nbformat_minor": 5
}
