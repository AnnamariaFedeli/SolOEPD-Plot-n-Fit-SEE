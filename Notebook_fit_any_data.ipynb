{
 "cells": [
  {
   "cell_type": "code",
   "execution_count": 1,
   "id": "d4671d54",
   "metadata": {
    "scrolled": true
   },
   "outputs": [],
   "source": [
    "from run_any_data import *"
   ]
  },
  {
   "cell_type": "markdown",
   "id": "cd90048e",
   "metadata": {},
   "source": [
    "## Loading the data files\n",
    "\n",
    "#### NOTE: to use the fitting function you need to provide the uncertainty for both x- and y-data (e.g. energy and flux).  For the uncertainty you can use for example 10% of the x and y data.\n",
    "<br> provide the path to the file. The file can be in either txt or csv format. If the data is in xlsx format use pd.read_excel() instead of pd.read_csv()\n"
   ]
  },
  {
   "cell_type": "code",
   "execution_count": 2,
   "id": "75f36441",
   "metadata": {},
   "outputs": [],
   "source": [
    "#path_to_file = r'C:/Users/Omistaja/Desktop/SRL/2021SRL/messenger/event1.txt'\n",
    "path =  r'/home/annafed/Documents/Fits_Lengying/Re _Spectral_index_study_error/PSP_LET_A_EnergySpectrum_withUncertainty.txt'\n",
    "data = pd.read_csv(path) # or pd.read_excel() for xlsx data\n",
    "\n",
    "path2 =  r'/home/annafed/Documents/Fits_Lengying/Re _Spectral_index_study_error/PSP_HET_A_EnergySpectrum_withUncertainty.txt'\n",
    "data2 = pd.read_csv(path2) # or pd.read_excel() for xlsx data\n",
    "\n"
   ]
  },
  {
   "cell_type": "markdown",
   "id": "8092f703",
   "metadata": {},
   "source": [
    "#### Choose what to fit. The file can contain all kinds of data and multiple columns etc. Below, you need to choose what you want to fit. Choose x-axis data and y-axis data. "
   ]
  },
  {
   "cell_type": "code",
   "execution_count": 3,
   "id": "cf78c5cd",
   "metadata": {},
   "outputs": [],
   "source": [
    "x_data = data['PSP/LET-A - Energy (MeV)'][:len(data)-2]\n",
    "y_data = data['flux at 1-hour before shock'][:len(data)-2]\n",
    "#x_err = data['name of column with x uncertainty data'] \n",
    "#y_err = data['name of column with y uncertainty data']\n",
    "\n",
    "# if the data doesn't contain uncertainty it still needs to be provided for the fitting functions to works\n",
    "# e.g. use 10% of the data \n",
    "x_err = data['PSP/LET-A - Energy: Delta Minus (MeV)'][:len(data)-2]\n",
    "y_err = data['flux uncertainty at 1-hour before shock'][:len(data)-2]\n"
   ]
  },
  {
   "cell_type": "code",
   "execution_count": 4,
   "id": "b37f01d2",
   "metadata": {},
   "outputs": [],
   "source": [
    "x_data2 = data2['PSP/HET-A - Energy (MeV)']\n",
    "y_data2 = data2['flux at 1-hour before shock']\n",
    "#x_err = data['name of column with x uncertainty data'] \n",
    "#y_err = data['name of column with y uncertainty data']\n",
    "\n",
    "# if the data doesn't contain uncertainty it still needs to be provided for the fitting functions to works\n",
    "# e.g. use 10% of the data \n",
    "x_err2 = data2['PSP/LET-A - Energy: Delta Minus (MeV)']\n",
    "y_err2 = data2['flux uncertainty at 1-hour before shock']\n"
   ]
  },
  {
   "cell_type": "markdown",
   "id": "2b5cccb0",
   "metadata": {},
   "source": [
    "## Saving data \n",
    "#### You can choose to save the plot (savefig), the ODR run as a pickle file (save_pickle) and save all the variables from the fitting procedure (save_fit_variables) by setting the options below to True"
   ]
  },
  {
   "cell_type": "code",
   "execution_count": 5,
   "id": "51408fb1",
   "metadata": {},
   "outputs": [],
   "source": [
    "savefig = False # save the fit\n",
    "save_pickle = False # save a pickle file of the odr run\n",
    "save_fit_variables = False # save the variables from the fit"
   ]
  },
  {
   "cell_type": "code",
   "execution_count": 6,
   "id": "b8426df2",
   "metadata": {},
   "outputs": [],
   "source": [
    "data_for_the_fit = pd.DataFrame()\n",
    "data_for_the_fit['x'] = x_data\n",
    "data_for_the_fit['y'] = y_data\n",
    "data_for_the_fit['x_err'] = x_err\n",
    "data_for_the_fit['y_err'] = y_err"
   ]
  },
  {
   "cell_type": "code",
   "execution_count": 7,
   "id": "eec81237",
   "metadata": {},
   "outputs": [],
   "source": [
    "data_for_the_fit2 = pd.DataFrame()\n",
    "data_for_the_fit2['x'] = x_data2\n",
    "data_for_the_fit2['y'] = y_data2\n",
    "data_for_the_fit2['x_err'] = x_err2\n",
    "data_for_the_fit2['y_err'] = y_err2"
   ]
  },
  {
   "cell_type": "code",
   "execution_count": 8,
   "id": "0b9079cd",
   "metadata": {
    "scrolled": false
   },
   "outputs": [],
   "source": [
    "plot_title = 'PSP spectrum - 1-hours before shock'\n",
    "x_label = 'Energy (MeV)'\n",
    "y_label = 'Flux\\n/(s cm² sr MeV)'\n",
    "legend_title = '' "
   ]
  },
  {
   "cell_type": "markdown",
   "id": "10f79262",
   "metadata": {},
   "source": [
    "## INPUTS FOR THE FIT\n",
    "\n",
    "### which_fit options: \n",
    "<br>'single' will force a single pl fit to the data\n",
    "<br> 'broken' will force a broken pl fit to the data but ONLY if the break point is within the energy range otherwise a sigle pl fit will be produced instead\n",
    "<br> 'best_sb' will choose automatically the best fit type between single and broken by comparing the redchis of the fits\n",
    "<br> 'cut' will produce a single pl fit with an exponential cutoff point. If the cutoff point is outside of the energy range a broken or single pl will be fit instead\n",
    "<br> 'broken_cut' will produce a broken pl fit with an exponential cutoff point. If the cutoff point is outside of the energy range a broken or single pl will be fit instead\n",
    "<br> 'best_cb' will choose the better option between a broken pl and a single+cutoff. If the break and cutoff points are outside of the energy range a single pl will be fit instead.\n",
    "<br>'triple' will try to fit a triple pl. If not possible, will try to fit the next best option.\n",
    "<br> 'best' will choose automatically the best fit type by comparing the redchis of the fits\n"
   ]
  },
  {
   "cell_type": "code",
   "execution_count": 9,
   "id": "0f7ed199",
   "metadata": {},
   "outputs": [],
   "source": [
    "which_fit = 'best' "
   ]
  },
  {
   "cell_type": "markdown",
   "id": "4354e7c3",
   "metadata": {},
   "source": [
    "## Guess values and energy range\n",
    "#### NOTE: e_min, e_max, break_guess and cut_guess should bein MeV. e_min and e_max can also be None. In this case the MAKE_THE_FIT function will automaically choose the values. (energy on x-axis)\n",
    "\n",
    "<br>Random and iterations\n",
    "<br>if use_random = False the fit will only be made once with the guess values\n",
    "<br> if use_random = True the fitting function will first create a list of reasonable values for each of the fitting parameters then randomly select values from the lists and compare the redchis of each fit to find the best one\n",
    "<br> iterations = number of times the fit is retried to find the best one"
   ]
  },
  {
   "cell_type": "code",
   "execution_count": 13,
   "id": "19f43608",
   "metadata": {},
   "outputs": [],
   "source": [
    "e_min =  None # in MeV \n",
    "e_max = None# in MeV\n",
    "\n",
    "g1_guess = -1.9 # gamma 1 -> spectral index before the break (or single pl)\n",
    "g2_guess = -2.5 # gamma 2 -> spectral index after the break (for broken pl)\n",
    "g3_guess = -4.5 # gamma 3 -> spectral index after the second break (for triple pl)\n",
    "c1_guess = 1e3 # peak flux\n",
    "alpha_guess = 7.16 # sharpness of the first break\n",
    "beta_guess = 10 #sharpness of the second break\n",
    "break_guess_low = 2 #in MeV\n",
    "break_guess_high = 10\n",
    "cut_guess = 10 #in MeV\n",
    "\n",
    "#legend_details = False\n",
    "\n",
    "use_random = True \n",
    "iterations = 20"
   ]
  },
  {
   "cell_type": "markdown",
   "id": "d3da7647",
   "metadata": {},
   "source": [
    "plot_title = 'BepiColombo spectrum - at shock arrival'\n",
    "x_label = 'Energy (MeV)'\n",
    "y_label = 'Flux\\n/(s cm² sr MeV)'\n",
    "legend_title = '' \n"
   ]
  },
  {
   "cell_type": "code",
   "execution_count": 14,
   "id": "f86368a4",
   "metadata": {},
   "outputs": [
    {
     "name": "stdout",
     "output_type": "stream",
     "text": [
      "0\n",
      "1\n"
     ]
    }
   ],
   "source": [
    "data_list = [data_for_the_fit, data_for_the_fit2]\n",
    "for i in range(len(data_list)):\n",
    "    print(i)"
   ]
  },
  {
   "cell_type": "code",
   "execution_count": 15,
   "id": "c3d18305",
   "metadata": {
    "scrolled": false
   },
   "outputs": [
    {
     "name": "stdout",
     "output_type": "stream",
     "text": [
      "            x             y   x error    y error\n",
      "0    2.181017  4.241339e+03  0.197399  36.592220\n",
      "1    2.593681  2.680537e+03  0.234748  26.664070\n",
      "2    3.084424  1.270063e+03  0.279164  16.817950\n",
      "3    3.668019  6.028743e+02  0.331984  10.638410\n",
      "4    4.362035  2.960812e+02  0.394798   6.832833\n",
      "5    5.187363  1.596564e+02  0.469496   4.601624\n",
      "6    6.168849  1.010598e+02  0.558329   3.355910\n",
      "7    7.336039  6.336093e+01  0.663968   2.437279\n",
      "8    8.724070  5.180991e+01  0.789596   2.056201\n",
      "9   10.374730  4.487754e+01  0.938993   1.925226\n",
      "10  12.337700  3.745778e+01  1.116657   1.619994\n",
      "11  14.672080  2.840935e+01  1.327937   1.294290\n",
      "12  17.448140  1.956871e+01  1.579191   0.985944\n",
      "13  20.749450  1.256712e+01  1.877986   0.726469\n",
      "14  24.675390  8.792191e+00  2.233314   0.558756\n",
      "15  29.344150  4.761448e+00  2.655873   0.483029\n",
      "16  12.337700  3.943411e+01  1.116657   0.549503\n",
      "17  14.672080  2.388288e+01  1.327937   0.399550\n",
      "18  17.448140  1.427612e+01  1.579191   0.294558\n",
      "19  20.749450  1.139455e+01  1.877986   0.254727\n",
      "20  24.675390  8.353470e+00  2.233314   0.213701\n",
      "21  29.344150  5.418451e+00  2.655873   0.172384\n",
      "22  34.896280  4.084679e+00  3.158383   0.152973\n",
      "23  41.498900  2.119371e+00  3.755971   0.115450\n",
      "24  49.350790  1.516013e+00  4.466628   0.104865\n",
      "25  58.688310  1.119648e+00  5.311746   0.354065\n",
      "26  69.792560 -1.000000e+31  6.316766        inf\n",
      "27  82.997800 -1.000000e+31  7.511943        inf\n",
      "            x            y   x error    y error\n",
      "0    2.181017  4241.339000  0.197399  36.592220\n",
      "1    2.593681  2680.537000  0.234748  26.664070\n",
      "2    3.084424  1270.063000  0.279164  16.817950\n",
      "3    3.668019   602.874300  0.331984  10.638410\n",
      "4    4.362035   296.081200  0.394798   6.832833\n",
      "5    5.187363   159.656400  0.469496   4.601624\n",
      "6    6.168849   101.059800  0.558329   3.355910\n",
      "7    7.336039    63.360930  0.663968   2.437279\n",
      "8    8.724070    51.809910  0.789596   2.056201\n",
      "9   10.374730    44.877540  0.938993   1.925226\n",
      "10  12.337700    37.457780  1.116657   1.619994\n",
      "11  14.672080    28.409350  1.327937   1.294290\n",
      "12  17.448140    19.568710  1.579191   0.985944\n",
      "13  20.749450    12.567120  1.877986   0.726469\n",
      "14  24.675390     8.792191  2.233314   0.558756\n",
      "15  29.344150     4.761448  2.655873   0.483029\n",
      "16  12.337700    39.434110  1.116657   0.549503\n",
      "17  14.672080    23.882880  1.327937   0.399550\n",
      "18  17.448140    14.276120  1.579191   0.294558\n",
      "19  20.749450    11.394550  1.877986   0.254727\n",
      "20  24.675390     8.353470  2.233314   0.213701\n",
      "21  29.344150     5.418451  2.655873   0.172384\n",
      "22  34.896280     4.084679  3.158383   0.152973\n",
      "23  41.498900     2.119371  3.755971   0.115450\n",
      "24  49.350790     1.516013  4.466628   0.104865\n",
      "25  58.688310     1.119648  5.311746   0.354065\n"
     ]
    },
    {
     "name": "stderr",
     "output_type": "stream",
     "text": [
      "/home/annafed/Documents/GitHub/SolOEPD-Plot-n-Fit-SEE/my_power_law_fits_odr.py:78: RuntimeWarning: overflow encountered in power\n",
      "  y = c1 * (x/0.1)**gamma1  * ((x**alpha + E_break_low**alpha)/(0.1**alpha+E_break_low**alpha))**((gamma2-gamma1)/alpha)* ((x**beta + E_break_high**beta)/(0.1**beta+E_break_high**beta))**((gamma3-gamma2)/beta)\n",
      "/home/annafed/Documents/GitHub/SolOEPD-Plot-n-Fit-SEE/my_power_law_fits_odr.py:78: RuntimeWarning: invalid value encountered in double_scalars\n",
      "  y = c1 * (x/0.1)**gamma1  * ((x**alpha + E_break_low**alpha)/(0.1**alpha+E_break_low**alpha))**((gamma2-gamma1)/alpha)* ((x**beta + E_break_high**beta)/(0.1**beta+E_break_high**beta))**((gamma3-gamma2)/beta)\n",
      "/home/annafed/Documents/GitHub/SolOEPD-Plot-n-Fit-SEE/my_power_law_fits_odr.py:78: RuntimeWarning: overflow encountered in double_scalars\n",
      "  y = c1 * (x/0.1)**gamma1  * ((x**alpha + E_break_low**alpha)/(0.1**alpha+E_break_low**alpha))**((gamma2-gamma1)/alpha)* ((x**beta + E_break_high**beta)/(0.1**beta+E_break_high**beta))**((gamma3-gamma2)/beta)\n",
      "/home/annafed/Documents/GitHub/SolOEPD-Plot-n-Fit-SEE/my_power_law_fits_odr.py:78: RuntimeWarning: invalid value encountered in divide\n",
      "  y = c1 * (x/0.1)**gamma1  * ((x**alpha + E_break_low**alpha)/(0.1**alpha+E_break_low**alpha))**((gamma2-gamma1)/alpha)* ((x**beta + E_break_high**beta)/(0.1**beta+E_break_high**beta))**((gamma3-gamma2)/beta)\n",
      "/home/annafed/Documents/GitHub/SolOEPD-Plot-n-Fit-SEE/my_power_law_fits_odr.py:78: RuntimeWarning: overflow encountered in multiply\n",
      "  y = c1 * (x/0.1)**gamma1  * ((x**alpha + E_break_low**alpha)/(0.1**alpha+E_break_low**alpha))**((gamma2-gamma1)/alpha)* ((x**beta + E_break_high**beta)/(0.1**beta+E_break_high**beta))**((gamma3-gamma2)/beta)\n",
      "/home/annafed/Documents/GitHub/SolOEPD-Plot-n-Fit-SEE/my_power_law_fits_odr.py:111: RuntimeWarning: overflow encountered in power\n",
      "  y = c1*(x/0.1)**gamma1 * ((x**alpha + E_break**alpha)/(0.1**alpha+E_break**alpha))**((gamma2-gamma1)/alpha)*np.exp(-(x/E_cut)**2)\n",
      "/home/annafed/Documents/GitHub/SolOEPD-Plot-n-Fit-SEE/my_power_law_fits_odr.py:111: RuntimeWarning: invalid value encountered in multiply\n",
      "  y = c1*(x/0.1)**gamma1 * ((x**alpha + E_break**alpha)/(0.1**alpha+E_break**alpha))**((gamma2-gamma1)/alpha)*np.exp(-(x/E_cut)**2)\n",
      "/home/annafed/Documents/GitHub/SolOEPD-Plot-n-Fit-SEE/my_power_law_fits_odr.py:111: RuntimeWarning: overflow encountered in double_scalars\n",
      "  y = c1*(x/0.1)**gamma1 * ((x**alpha + E_break**alpha)/(0.1**alpha+E_break**alpha))**((gamma2-gamma1)/alpha)*np.exp(-(x/E_cut)**2)\n",
      "/home/annafed/Documents/GitHub/SolOEPD-Plot-n-Fit-SEE/my_power_law_fits_odr.py:111: RuntimeWarning: invalid value encountered in divide\n",
      "  y = c1*(x/0.1)**gamma1 * ((x**alpha + E_break**alpha)/(0.1**alpha+E_break**alpha))**((gamma2-gamma1)/alpha)*np.exp(-(x/E_cut)**2)\n",
      "/home/annafed/Documents/GitHub/SolOEPD-Plot-n-Fit-SEE/my_power_law_fits_odr.py:111: RuntimeWarning: overflow encountered in divide\n",
      "  y = c1*(x/0.1)**gamma1 * ((x**alpha + E_break**alpha)/(0.1**alpha+E_break**alpha))**((gamma2-gamma1)/alpha)*np.exp(-(x/E_cut)**2)\n",
      "/home/annafed/Documents/GitHub/SolOEPD-Plot-n-Fit-SEE/my_power_law_fits_odr.py:111: RuntimeWarning: invalid value encountered in power\n",
      "  y = c1*(x/0.1)**gamma1 * ((x**alpha + E_break**alpha)/(0.1**alpha+E_break**alpha))**((gamma2-gamma1)/alpha)*np.exp(-(x/E_cut)**2)\n",
      "/home/annafed/Documents/GitHub/SolOEPD-Plot-n-Fit-SEE/my_power_law_fits_odr.py:140: RuntimeWarning: overflow encountered in power\n",
      "  y = c1*(x/0.1)**gamma1 *np.exp(-(x/E_cut)**2)\n",
      "/home/annafed/Documents/GitHub/SolOEPD-Plot-n-Fit-SEE/my_power_law_fits_odr.py:140: RuntimeWarning: invalid value encountered in power\n",
      "  y = c1*(x/0.1)**gamma1 *np.exp(-(x/E_cut)**2)\n",
      "/home/annafed/Documents/GitHub/SolOEPD-Plot-n-Fit-SEE/my_power_law_fits_odr.py:43: RuntimeWarning: overflow encountered in power\n",
      "  y = c1 * (x/0.1)**gamma1  * ((x**alpha + E_break**alpha)/(0.1**alpha+E_break**alpha))**((gamma2-gamma1)/alpha)\n",
      "/home/annafed/Documents/GitHub/SolOEPD-Plot-n-Fit-SEE/my_power_law_fits_odr.py:43: RuntimeWarning: overflow encountered in double_scalars\n",
      "  y = c1 * (x/0.1)**gamma1  * ((x**alpha + E_break**alpha)/(0.1**alpha+E_break**alpha))**((gamma2-gamma1)/alpha)\n",
      "/home/annafed/Documents/GitHub/SolOEPD-Plot-n-Fit-SEE/my_power_law_fits_odr.py:43: RuntimeWarning: invalid value encountered in divide\n",
      "  y = c1 * (x/0.1)**gamma1  * ((x**alpha + E_break**alpha)/(0.1**alpha+E_break**alpha))**((gamma2-gamma1)/alpha)\n",
      "/home/annafed/Documents/GitHub/SolOEPD-Plot-n-Fit-SEE/my_power_law_fits_odr.py:43: RuntimeWarning: invalid value encountered in double_scalars\n",
      "  y = c1 * (x/0.1)**gamma1  * ((x**alpha + E_break**alpha)/(0.1**alpha+E_break**alpha))**((gamma2-gamma1)/alpha)\n",
      "/home/annafed/Documents/GitHub/SolOEPD-Plot-n-Fit-SEE/my_power_law_fits_odr.py:202: RuntimeWarning: invalid value encountered in power\n",
      "  return c1*x**gamma1\n",
      "/home/annafed/Documents/GitHub/SolOEPD-Plot-n-Fit-SEE/my_power_law_fits_odr.py:78: RuntimeWarning: invalid value encountered in multiply\n",
      "  y = c1 * (x/0.1)**gamma1  * ((x**alpha + E_break_low**alpha)/(0.1**alpha+E_break_low**alpha))**((gamma2-gamma1)/alpha)* ((x**beta + E_break_high**beta)/(0.1**beta+E_break_high**beta))**((gamma3-gamma2)/beta)\n",
      "/home/annafed/Documents/GitHub/SolOEPD-Plot-n-Fit-SEE/my_power_law_fits_odr.py:78: RuntimeWarning: divide by zero encountered in power\n",
      "  y = c1 * (x/0.1)**gamma1  * ((x**alpha + E_break_low**alpha)/(0.1**alpha+E_break_low**alpha))**((gamma2-gamma1)/alpha)* ((x**beta + E_break_high**beta)/(0.1**beta+E_break_high**beta))**((gamma3-gamma2)/beta)\n"
     ]
    },
    {
     "name": "stdout",
     "output_type": "stream",
     "text": [
      "{'single': 2.5143358349163507, 'cut': 2.5143359339155293, 'broken': 2.873528781698763, 'broken_cut': 3.018897656243855, 'triple': 3.3524496807968567}\n",
      "Smallest chis value single\n"
     ]
    },
    {
     "name": "stderr",
     "output_type": "stream",
     "text": [
      "/home/annafed/Documents/GitHub/SolOEPD-Plot-n-Fit-SEE/my_power_law_fits_odr.py:43: RuntimeWarning: invalid value encountered in multiply\n",
      "  y = c1 * (x/0.1)**gamma1  * ((x**alpha + E_break**alpha)/(0.1**alpha+E_break**alpha))**((gamma2-gamma1)/alpha)\n",
      "/home/annafed/Documents/GitHub/SolOEPD-Plot-n-Fit-SEE/my_power_law_fits_odr.py:43: RuntimeWarning: divide by zero encountered in power\n",
      "  y = c1 * (x/0.1)**gamma1  * ((x**alpha + E_break**alpha)/(0.1**alpha+E_break**alpha))**((gamma2-gamma1)/alpha)\n"
     ]
    },
    {
     "name": "stdout",
     "output_type": "stream",
     "text": [
      "{'triple': 0.27155238124846703, 'single': 2.5143358349025333, 'cut': 2.514336356624353, 'broken': 2.8735321631751813, 'broken_cut': 3.020150424786756}\n",
      "Smallest chis value triple\n",
      "TRIPLE\n",
      "[ 3.63569989  3.22303589  2.73229289  2.14869789  1.45468189  0.62935389\n",
      "  0.35213211  1.51932211  2.90735311  4.55801311  6.52098311  8.85536311\n",
      " 11.63142311 14.93273311 18.85867311 23.52743311  6.52098311  8.85536311\n",
      " 11.63142311 14.93273311 18.85867311 23.52743311 29.07956311 35.68218311\n",
      " 43.53407311 52.87159311]\n",
      "6\n",
      "5.6105205\n",
      "8.0000073\n",
      "2.3894868000000002\n",
      "0.00989674288981135\n",
      "TRIPLE\n",
      "[ 3.63569989  3.22303589  2.73229289  2.14869789  1.45468189  0.62935389\n",
      "  0.35213211  1.51932211  2.90735311  4.55801311  6.52098311  8.85536311\n",
      " 11.63142311 14.93273311 18.85867311 23.52743311  6.52098311  8.85536311\n",
      " 11.63142311 14.93273311 18.85867311 23.52743311 29.07956311 35.68218311\n",
      " 43.53407311 52.87159311]\n",
      "6\n",
      "5.6105205\n",
      "8.0000073\n",
      "2.3894868000000002\n",
      "0.00989674288981135\n"
     ]
    },
    {
     "name": "stderr",
     "output_type": "stream",
     "text": [
      "/home/annafed/Documents/GitHub/SolOEPD-Plot-n-Fit-SEE/my_power_law_fits_odr.py:140: RuntimeWarning: overflow encountered in multiply\n",
      "  y = c1*(x/0.1)**gamma1 *np.exp(-(x/E_cut)**2)\n",
      "/home/annafed/Documents/GitHub/SolOEPD-Plot-n-Fit-SEE/my_power_law_fits_odr.py:202: RuntimeWarning: overflow encountered in power\n",
      "  return c1*x**gamma1\n"
     ]
    },
    {
     "name": "stdout",
     "output_type": "stream",
     "text": [
      "{'triple': 0.2761211424972446, 'single': 2.5143358350049176, 'cut': 2.514335853977532, 'broken': 2.873529950036521, 'broken_cut': 3.024731294557092}\n",
      "Smallest chis value triple\n",
      "TRIPLE\n",
      "[ 3.5107002  3.0980362  2.6072932  2.0236982  1.3296822  0.5043542\n",
      "  0.4771318  1.6443218  3.0323528  4.6830128  6.6459828  8.9803628\n",
      " 11.7564228 15.0577328 18.9836728 23.6524328  6.6459828  8.9803628\n",
      " 11.7564228 15.0577328 18.9836728 23.6524328 29.2045628 35.8071828\n",
      " 43.6590728 52.9965928]\n",
      "6\n",
      "5.6105205\n",
      "8.0000073\n",
      "2.3894868000000002\n",
      "0.014176780727934712\n",
      "TRIPLE\n",
      "[ 3.5107002  3.0980362  2.6072932  2.0236982  1.3296822  0.5043542\n",
      "  0.4771318  1.6443218  3.0323528  4.6830128  6.6459828  8.9803628\n",
      " 11.7564228 15.0577328 18.9836728 23.6524328  6.6459828  8.9803628\n",
      " 11.7564228 15.0577328 18.9836728 23.6524328 29.2045628 35.8071828\n",
      " 43.6590728 52.9965928]\n",
      "6\n",
      "5.6105205\n",
      "8.0000073\n",
      "2.3894868000000002\n",
      "0.014176780727934712\n"
     ]
    },
    {
     "name": "stderr",
     "output_type": "stream",
     "text": [
      "/home/annafed/Documents/GitHub/SolOEPD-Plot-n-Fit-SEE/my_power_law_fits_odr.py:111: RuntimeWarning: invalid value encountered in double_scalars\n",
      "  y = c1*(x/0.1)**gamma1 * ((x**alpha + E_break**alpha)/(0.1**alpha+E_break**alpha))**((gamma2-gamma1)/alpha)*np.exp(-(x/E_cut)**2)\n",
      "/home/annafed/Documents/GitHub/SolOEPD-Plot-n-Fit-SEE/my_power_law_fits_odr.py:43: RuntimeWarning: overflow encountered in multiply\n",
      "  y = c1 * (x/0.1)**gamma1  * ((x**alpha + E_break**alpha)/(0.1**alpha+E_break**alpha))**((gamma2-gamma1)/alpha)\n",
      "/home/annafed/Documents/GitHub/SolOEPD-Plot-n-Fit-SEE/my_power_law_fits_odr.py:202: RuntimeWarning: overflow encountered in multiply\n",
      "  return c1*x**gamma1\n"
     ]
    },
    {
     "name": "stdout",
     "output_type": "stream",
     "text": [
      "{'triple': 0.26402947928402587, 'single': 2.5143358349199407, 'cut': 2.514336711235989, 'broken': 2.8735298193404737, 'broken_cut': 3.0208062577038}\n",
      "Smallest chis value triple\n",
      "TRIPLE\n",
      "[ 3.85375605  3.44109205  2.95034905  2.36675405  1.67273805  0.84741005\n",
      "  0.13407595  1.30126595  2.68929695  4.33995695  6.30292695  8.63730695\n",
      " 11.41336695 14.71467695 18.64061695 23.30937695  6.30292695  8.63730695\n",
      " 11.41336695 14.71467695 18.64061695 23.30937695 28.86150695 35.46412695\n",
      " 43.31601695 52.65353695]\n",
      "6\n",
      "5.6105205\n",
      "8.0000073\n",
      "2.3894868000000002\n",
      "0.0032745981777626554\n",
      "TRIPLE\n",
      "[ 3.85375605  3.44109205  2.95034905  2.36675405  1.67273805  0.84741005\n",
      "  0.13407595  1.30126595  2.68929695  4.33995695  6.30292695  8.63730695\n",
      " 11.41336695 14.71467695 18.64061695 23.30937695  6.30292695  8.63730695\n",
      " 11.41336695 14.71467695 18.64061695 23.30937695 28.86150695 35.46412695\n",
      " 43.31601695 52.65353695]\n",
      "6\n",
      "5.6105205\n",
      "8.0000073\n",
      "2.3894868000000002\n",
      "0.0032745981777626554\n",
      "{'triple': 0.2712383792991395, 'single': 2.5143358349190765, 'cut': 2.5143372862976925, 'broken': 2.8735266909817425, 'broken_cut': 3.0204856626481353}\n",
      "Smallest chis value triple\n",
      "TRIPLE\n",
      "[ 3.64447368  3.23180968  2.74106668  2.15747168  1.46345568  0.63812768\n",
      "  0.34335832  1.51054832  2.89857932  4.54923932  6.51220932  8.84658932\n",
      " 11.62264932 14.92395932 18.84989932 23.51865932  6.51220932  8.84658932\n",
      " 11.62264932 14.92395932 18.84989932 23.51865932 29.07078932 35.67340932\n",
      " 43.52529932 52.86281932]\n",
      "6\n",
      "5.6105205\n",
      "8.0000073\n",
      "2.3894868000000002\n",
      "0.00961011016621871\n",
      "TRIPLE\n",
      "[ 3.64447368  3.23180968  2.74106668  2.15747168  1.46345568  0.63812768\n",
      "  0.34335832  1.51054832  2.89857932  4.54923932  6.51220932  8.84658932\n",
      " 11.62264932 14.92395932 18.84989932 23.51865932  6.51220932  8.84658932\n",
      " 11.62264932 14.92395932 18.84989932 23.51865932 29.07078932 35.67340932\n",
      " 43.52529932 52.86281932]\n",
      "6\n",
      "5.6105205\n",
      "8.0000073\n",
      "2.3894868000000002\n",
      "0.00961011016621871\n"
     ]
    },
    {
     "name": "stderr",
     "output_type": "stream",
     "text": [
      "/home/annafed/Documents/GitHub/SolOEPD-Plot-n-Fit-SEE/my_power_law_fits_odr.py:78: RuntimeWarning: invalid value encountered in power\n",
      "  y = c1 * (x/0.1)**gamma1  * ((x**alpha + E_break_low**alpha)/(0.1**alpha+E_break_low**alpha))**((gamma2-gamma1)/alpha)* ((x**beta + E_break_high**beta)/(0.1**beta+E_break_high**beta))**((gamma3-gamma2)/beta)\n",
      "/home/annafed/Documents/GitHub/SolOEPD-Plot-n-Fit-SEE/my_power_law_fits_odr.py:111: RuntimeWarning: divide by zero encountered in power\n",
      "  y = c1*(x/0.1)**gamma1 * ((x**alpha + E_break**alpha)/(0.1**alpha+E_break**alpha))**((gamma2-gamma1)/alpha)*np.exp(-(x/E_cut)**2)\n"
     ]
    },
    {
     "name": "stdout",
     "output_type": "stream",
     "text": [
      "{'single': 2.5143358350502427, 'cut': 2.5143363675640495, 'broken': 2.8735290157232716, 'broken_cut': 3.0195064906986637, 'triple': 3.352454227360926}\n",
      "Smallest chis value single\n"
     ]
    },
    {
     "name": "stderr",
     "output_type": "stream",
     "text": [
      "/home/annafed/Documents/GitHub/SolOEPD-Plot-n-Fit-SEE/my_power_law_fits_odr.py:111: RuntimeWarning: overflow encountered in multiply\n",
      "  y = c1*(x/0.1)**gamma1 * ((x**alpha + E_break**alpha)/(0.1**alpha+E_break**alpha))**((gamma2-gamma1)/alpha)*np.exp(-(x/E_cut)**2)\n"
     ]
    },
    {
     "name": "stdout",
     "output_type": "stream",
     "text": [
      "{'triple': 0.2710608984152984, 'single': 2.514335835041524, 'cut': 2.5143363201771094, 'broken': 2.8735311063787856, 'broken_cut': 3.0203790208361267}\n",
      "Smallest chis value triple\n",
      "TRIPLE\n",
      "[ 3.64944236  3.23677836  2.74603536  2.16244036  1.46842436  0.64309636\n",
      "  0.33838964  1.50557964  2.89361064  4.54427064  6.50724064  8.84162064\n",
      " 11.61768064 14.91899064 18.84493064 23.51369064  6.50724064  8.84162064\n",
      " 11.61768064 14.91899064 18.84493064 23.51369064 29.06582064 35.66844064\n",
      " 43.52033064 52.85785064]\n",
      "6\n",
      "5.6105205\n",
      "8.0000073\n",
      "2.3894868000000002\n",
      "0.009448514193317159\n",
      "TRIPLE\n",
      "[ 3.64944236  3.23677836  2.74603536  2.16244036  1.46842436  0.64309636\n",
      "  0.33838964  1.50557964  2.89361064  4.54427064  6.50724064  8.84162064\n",
      " 11.61768064 14.91899064 18.84493064 23.51369064  6.50724064  8.84162064\n",
      " 11.61768064 14.91899064 18.84493064 23.51369064 29.06582064 35.66844064\n",
      " 43.52033064 52.85785064]\n",
      "6\n",
      "5.6105205\n",
      "8.0000073\n",
      "2.3894868000000002\n",
      "0.009448514193317159\n",
      "{'single': 2.514335835077364, 'cut': 2.5143365137243476, 'broken': 2.8735271068809927, 'broken_cut': 3.020032964892929, 'triple': 3.3524514696793184}\n",
      "Smallest chis value single\n",
      "{'triple': 0.27286340976619833, 'single': 2.514335835336043, 'cut': 2.5143360299361444, 'broken': 2.8735267550950465, 'broken_cut': 3.0210775583732654}\n",
      "Smallest chis value triple\n",
      "TRIPLE\n",
      "[ 3.59933742  3.18667342  2.69593042  2.11233542  1.41831942  0.59299142\n",
      "  0.38849458  1.55568458  2.94371558  4.59437558  6.55734558  8.89172558\n",
      " 11.66778558 14.96909558 18.89503558 23.56379558  6.55734558  8.89172558\n",
      " 11.66778558 14.96909558 18.89503558 23.56379558 29.11592558 35.71854558\n",
      " 43.57043558 52.90795558]\n",
      "6\n",
      "5.6105205\n",
      "8.0000073\n",
      "2.3894868000000002\n",
      "0.011103741761693264\n",
      "TRIPLE\n",
      "[ 3.59933742  3.18667342  2.69593042  2.11233542  1.41831942  0.59299142\n",
      "  0.38849458  1.55568458  2.94371558  4.59437558  6.55734558  8.89172558\n",
      " 11.66778558 14.96909558 18.89503558 23.56379558  6.55734558  8.89172558\n",
      " 11.66778558 14.96909558 18.89503558 23.56379558 29.11592558 35.71854558\n",
      " 43.57043558 52.90795558]\n",
      "6\n",
      "5.6105205\n",
      "8.0000073\n",
      "2.3894868000000002\n",
      "0.011103741761693264\n",
      "{'triple': 0.2653041709147608, 'single': 2.514335834901658, 'cut': 2.5143360938306967, 'broken': 2.873527958702458, 'broken_cut': 3.0198386462554554}\n",
      "Smallest chis value triple\n",
      "TRIPLE\n",
      "[ 3.81552938  3.40286538  2.91212238  2.32852738  1.63451138  0.80918338\n",
      "  0.17230262  1.33949262  2.72752362  4.37818362  6.34115362  8.67553362\n",
      " 11.45159362 14.75290362 18.67884362 23.34760362  6.34115362  8.67553362\n",
      " 11.45159362 14.75290362 18.67884362 23.34760362 28.89973362 35.50235362\n",
      " 43.35424362 52.69176362]\n",
      "6\n",
      "5.6105205\n",
      "8.0000073\n",
      "2.3894868000000002\n",
      "0.0043619590953341\n",
      "TRIPLE\n",
      "[ 3.81552938  3.40286538  2.91212238  2.32852738  1.63451138  0.80918338\n",
      "  0.17230262  1.33949262  2.72752362  4.37818362  6.34115362  8.67553362\n",
      " 11.45159362 14.75290362 18.67884362 23.34760362  6.34115362  8.67553362\n",
      " 11.45159362 14.75290362 18.67884362 23.34760362 28.89973362 35.50235362\n",
      " 43.35424362 52.69176362]\n",
      "6\n",
      "5.6105205\n",
      "8.0000073\n",
      "2.3894868000000002\n",
      "0.0043619590953341\n"
     ]
    },
    {
     "name": "stderr",
     "output_type": "stream",
     "text": [
      "/home/annafed/Documents/GitHub/SolOEPD-Plot-n-Fit-SEE/my_power_law_fits_odr.py:43: RuntimeWarning: invalid value encountered in power\n",
      "  y = c1 * (x/0.1)**gamma1  * ((x**alpha + E_break**alpha)/(0.1**alpha+E_break**alpha))**((gamma2-gamma1)/alpha)\n"
     ]
    },
    {
     "name": "stdout",
     "output_type": "stream",
     "text": [
      "{'triple': 0.2867682054923133, 'single': 2.5143358348978837, 'cut': 2.5143366000293286, 'broken': 2.873526691565706, 'broken_cut': 3.0210346757043043}\n",
      "Smallest chis value triple\n",
      "TRIPLE\n",
      "[ 3.23420971  2.82154571  2.33080271  1.74720771  1.05319171  0.22786371\n",
      "  0.75362229  1.92081229  3.30884329  4.95950329  6.92247329  9.25685329\n",
      " 12.03291329 15.33422329 19.26016329 23.92892329  6.92247329  9.25685329\n",
      " 12.03291329 15.33422329 19.26016329 23.92892329 29.48105329 36.08367329\n",
      " 43.93556329 53.27308329]\n",
      "5\n",
      "4.717866600000001\n",
      "6.7271775\n",
      "2.009310899999999\n",
      "0.02504292705069666\n",
      "TRIPLE\n",
      "[ 3.23420971  2.82154571  2.33080271  1.74720771  1.05319171  0.22786371\n",
      "  0.75362229  1.92081229  3.30884329  4.95950329  6.92247329  9.25685329\n",
      " 12.03291329 15.33422329 19.26016329 23.92892329  6.92247329  9.25685329\n",
      " 12.03291329 15.33422329 19.26016329 23.92892329 29.48105329 36.08367329\n",
      " 43.93556329 53.27308329]\n",
      "5\n",
      "4.717866600000001\n",
      "6.7271775\n",
      "2.009310899999999\n",
      "0.02504292705069666\n",
      "{'triple': 0.2673150522449463, 'single': 2.514335834984705, 'cut': 2.5143366989885636, 'broken': 2.8735268161979826, 'broken_cut': 3.0217995271900935}\n",
      "Smallest chis value triple\n",
      "TRIPLE\n",
      "[ 3.75637096  3.34370696  2.85296396  2.26936896  1.57535296  0.75002496\n",
      "  0.23146104  1.39865104  2.78668204  4.43734204  6.40031204  8.73469204\n",
      " 11.51075204 14.81206204 18.73800204 23.40676204  6.40031204  8.73469204\n",
      " 11.51075204 14.81206204 18.73800204 23.40676204 28.95889204 35.56151204\n",
      " 43.41340204 52.75092204]\n",
      "6\n",
      "5.6105205\n",
      "8.0000073\n",
      "2.3894868000000002\n",
      "0.006105349673159566\n",
      "TRIPLE\n",
      "[ 3.75637096  3.34370696  2.85296396  2.26936896  1.57535296  0.75002496\n",
      "  0.23146104  1.39865104  2.78668204  4.43734204  6.40031204  8.73469204\n",
      " 11.51075204 14.81206204 18.73800204 23.40676204  6.40031204  8.73469204\n",
      " 11.51075204 14.81206204 18.73800204 23.40676204 28.95889204 35.56151204\n",
      " 43.41340204 52.75092204]\n",
      "6\n",
      "5.6105205\n",
      "8.0000073\n",
      "2.3894868000000002\n",
      "0.006105349673159566\n",
      "{'single': 2.514335834898808, 'cut': 2.5143359989262883, 'broken': 2.873527658458424, 'broken_cut': 3.0210701568907803, 'triple': 3.3524521769243827}\n",
      "Smallest chis value single\n",
      "{'single': 2.514335835004508, 'cut': 2.514336075976775, 'broken': 2.8735267094626558, 'broken_cut': 3.021283921181772, 'triple': 3.3524489227062704}\n",
      "Smallest chis value single\n",
      "{'single': 2.5143358348983726, 'cut': 2.514336542658559, 'broken': 2.8735289484846924, 'broken_cut': 3.0204286372681635, 'triple': 3.3524487677277017}\n",
      "Smallest chis value single\n",
      "{'triple': 0.27134417857297904, 'single': 2.514335835130272, 'cut': 2.5143363489612325, 'broken': 2.8735293400311854, 'broken_cut': 3.020534877713433}\n",
      "Smallest chis value triple\n",
      "TRIPLE\n",
      "[ 3.64151179  3.22884779  2.73810479  2.15450979  1.46049379  0.63516579\n",
      "  0.34632021  1.51351021  2.90154121  4.55220121  6.51517121  8.84955121\n",
      " 11.62561121 14.92692121 18.85286121 23.52162121  6.51517121  8.84955121\n",
      " 11.62561121 14.92692121 18.85286121 23.52162121 29.07375121 35.67637121\n",
      " 43.52826121 52.86578121]\n",
      "6\n",
      "5.6105205\n",
      "8.0000073\n",
      "2.3894868000000002\n",
      "0.009706597663246441\n",
      "TRIPLE\n",
      "[ 3.64151179  3.22884779  2.73810479  2.15450979  1.46049379  0.63516579\n",
      "  0.34632021  1.51351021  2.90154121  4.55220121  6.51517121  8.84955121\n",
      " 11.62561121 14.92692121 18.85286121 23.52162121  6.51517121  8.84955121\n",
      " 11.62561121 14.92692121 18.85286121 23.52162121 29.07375121 35.67637121\n",
      " 43.52826121 52.86578121]\n",
      "6\n",
      "5.6105205\n",
      "8.0000073\n",
      "2.3894868000000002\n",
      "0.009706597663246441\n",
      "{'single': 2.5143358350103706, 'cut': 2.514336505017128, 'broken': 2.8735281345359995, 'broken_cut': 3.020658150810738, 'triple': 3.352450860179992}\n",
      "Smallest chis value single\n",
      "{'single': 2.514335835141527, 'cut': 2.5143366714513706, 'broken': 2.8735309618805362, 'broken_cut': 3.022098325422558, 'triple': 3.3524513279663117}\n",
      "Smallest chis value single\n",
      "{'triple': 0.27789910321259925, 'single': 2.5143358350260208, 'cut': 2.5143367991303296, 'broken': 2.873534946104866, 'broken_cut': 3.0194458030886304}\n",
      "Smallest chis value triple\n",
      "TRIPLE\n",
      "[ 3.46325438  3.05059038  2.55984738  1.97625238  1.28223638  0.45690838\n",
      "  0.52457762  1.69176762  3.07979862  4.73045862  6.69342862  9.02780862\n",
      " 11.80386862 15.10517862 19.03111862 23.69987862  6.69342862  9.02780862\n",
      " 11.80386862 15.10517862 19.03111862 23.69987862 29.25200862 35.85462862\n",
      " 43.70651862 53.04403862]\n",
      "5\n",
      "4.717866600000001\n",
      "6.7271775\n",
      "2.009310899999999\n",
      "0.015900381030829358\n",
      "TRIPLE\n",
      "[ 3.46325438  3.05059038  2.55984738  1.97625238  1.28223638  0.45690838\n",
      "  0.52457762  1.69176762  3.07979862  4.73045862  6.69342862  9.02780862\n",
      " 11.80386862 15.10517862 19.03111862 23.69987862  6.69342862  9.02780862\n",
      " 11.80386862 15.10517862 19.03111862 23.69987862 29.25200862 35.85462862\n",
      " 43.70651862 53.04403862]\n",
      "5\n",
      "4.717866600000001\n",
      "6.7271775\n",
      "2.009310899999999\n",
      "0.015900381030829358\n",
      "{'single': 2.5143358352039646, 'cut': 2.5143376855702617, 'broken': 2.8735266710561964, 'broken_cut': 3.0189525405090336, 'triple': 3.352450959024553}\n",
      "Smallest chis value single\n",
      "{'triple': 0.2702157810652398, 'single': 2.514335834980337, 'cut': 2.514335934531655, 'broken': 2.87353086776103, 'broken_cut': 3.022158752497023}\n",
      "Smallest chis value triple\n",
      "TRIPLE\n",
      "[ 3.67322131  3.26055731  2.76981431  2.18621931  1.49220331  0.66687531\n",
      "  0.31461069  1.48180069  2.86983169  4.52049169  6.48346169  8.81784169\n",
      " 11.59390169 14.89521169 18.82115169 23.48991169  6.48346169  8.81784169\n",
      " 11.59390169 14.89521169 18.82115169 23.48991169 29.04204169 35.64466169\n",
      " 43.49655169 52.83407169]\n",
      "6\n",
      "5.6105205\n",
      "8.0000073\n",
      "2.3894868000000002\n",
      "0.008683046546011042\n",
      "TRIPLE\n",
      "[ 3.67322131  3.26055731  2.76981431  2.18621931  1.49220331  0.66687531\n",
      "  0.31461069  1.48180069  2.86983169  4.52049169  6.48346169  8.81784169\n",
      " 11.59390169 14.89521169 18.82115169 23.48991169  6.48346169  8.81784169\n",
      " 11.59390169 14.89521169 18.82115169 23.48991169 29.04204169 35.64466169\n",
      " 43.49655169 52.83407169]\n",
      "6\n",
      "5.6105205\n",
      "8.0000073\n",
      "2.3894868000000002\n",
      "0.008683046546011042\n",
      "single\n"
     ]
    },
    {
     "data": {
      "image/png": "[encoded data removed]",
      "text/plain": [
       "<Figure size 1200x1000 with 1 Axes>"
      ]
     },
     "metadata": {},
     "output_type": "display_data"
    }
   ],
   "source": [
    "run_all(path, data_list, savefig = True, plot_title = plot_title, x_label = x_label, y_label = y_label, legend_title = legend_title, data_label_for_legend = ['LET A', 'HET A'], which_fit = 'best', e_min = e_min, e_max = e_max)\n"
   ]
  },
  {
   "cell_type": "code",
   "execution_count": null,
   "id": "d02f173c",
   "metadata": {},
   "outputs": [],
   "source": []
  },
  {
   "cell_type": "code",
   "execution_count": null,
   "id": "a54d2576",
   "metadata": {},
   "outputs": [],
   "source": []
  },
  {
   "cell_type": "code",
   "execution_count": null,
   "id": "fdd57058",
   "metadata": {},
   "outputs": [],
   "source": []
  },
  {
   "cell_type": "code",
   "execution_count": null,
   "id": "e41f491d",
   "metadata": {},
   "outputs": [],
   "source": []
  },
  {
   "cell_type": "code",
   "execution_count": null,
   "id": "2b430e78",
   "metadata": {},
   "outputs": [],
   "source": []
  },
  {
   "cell_type": "code",
   "execution_count": null,
   "id": "c8aae51d",
   "metadata": {},
   "outputs": [],
   "source": []
  },
  {
   "cell_type": "code",
   "execution_count": null,
   "id": "07fb4996",
   "metadata": {},
   "outputs": [],
   "source": []
  },
  {
   "cell_type": "code",
   "execution_count": null,
   "id": "1b6ca808",
   "metadata": {},
   "outputs": [],
   "source": []
  }
 ],
 "metadata": {
  "kernelspec": {
   "display_name": "Python 3 (ipykernel)",
   "language": "python",
   "name": "python3"
  },
  "language_info": {
   "codemirror_mode": {
    "name": "ipython",
    "version": 3
   },
   "file_extension": ".py",
   "mimetype": "text/x-python",
   "name": "python",
   "nbconvert_exporter": "python",
   "pygments_lexer": "ipython3",
   "version": "3.10.4"
  }
 },
 "nbformat": 4,
 "nbformat_minor": 5
}
