{
 "cells": [
  {
   "cell_type": "code",
   "execution_count": 1,
   "id": "ec26efc7",
   "metadata": {},
   "outputs": [
    {
     "name": "stderr",
     "output_type": "stream",
     "text": [
      "/home/annafed/anaconda3/envs/annamaria/lib/python3.10/site-packages/tqdm/auto.py:22: TqdmWarning: IProgress not found. Please update jupyter and ipywidgets. See https://ipywidgets.readthedocs.io/en/stable/user_install.html\n",
      "  from .autonotebook import tqdm as notebook_tqdm\n"
     ]
    }
   ],
   "source": [
    "species = 'protons'  # !!!!!!!!!!\n",
    "\n",
    "if species.lower() in ['electron', 'electrons', 'e']:\n",
    "    from run_the_fit import *\n",
    "    from solo_epd_loader import calc_electrons\n",
    "if species.lower() in ['proton', 'protons', 'p']:    \n",
    "    from run_the_fit_protons import *\n",
    "from epd_plot_shift_electrons_protons import * # !!!!!!!\n",
    "import os"
   ]
  },
  {
   "cell_type": "markdown",
   "id": "0f040b54",
   "metadata": {},
   "source": [
    "\n",
    "# Notebook to plot and fit SolO EPD SEE data\n",
    "#### General information about the notebook:\n",
    "This Notebook allows the user to load, plot and fit SolO EPD SEE energy data.\n",
    "The data loading process is done by using solo-epd-loader. \n",
    "<br>This package can be installed simply by running   %pip install git+https://github.com/jgieseler/solo-epd-loader    in any cell of the notebook. Note that this should only be done once. The package can be updated by running: %pip install git+https://github.com/jgieseler/solo-epd-loader --upgrade\n",
    "<br>The data will be saved as cdf files to a local folder provided by the user. The data is then used to create dataframes of the electron data for each instrument and energy channel. \n",
    "<br>The flux data will be plotted as a timeseries. The timeseries include all the energy channels for each instrument. (add  expl pa) A flux peak will be searchered for each energy channel using the provided injection time and following the velocity dispersion. These values will then be plotted against the energy corresponding to the channels to form a spectrum. \n",
    "<br>The spectrum can then be fit with various functions to analyse its shape.\n"
   ]
  },
  {
   "cell_type": "markdown",
   "id": "186694da",
   "metadata": {},
   "source": [
    "### NECESSARY INPUTS\n",
    "Choose a folder where you wish to save the data from the loading, plotting and fitting process. \n",
    "If create_sub_folders = True, a new folder will be created for each event and the data etc will be saved there. \n",
    "<br> date : (datetime) format: datetime(yyyy, mm, dd, HH, MM) The date and approximate injection time of the event."
   ]
  },
  {
   "cell_type": "code",
   "execution_count": 2,
   "id": "27605507",
   "metadata": {},
   "outputs": [],
   "source": [
    "#path =  '/Users/dresing/Documents/SHOCKSEE/Science/Immanuel_SEE_events/IP_shock_July_2022/spectra_July_2022/Nina_analysis/protons/'\n",
    "path =   r'/home/annafed/Documents/proton_analysis/'\n",
    "create_sub_folders = True\n",
    "threshold_folders = False # if true saving to separate folders does not work. \n",
    "plot_n_data_folders = True\n",
    "save_fit_run_variables_to_separate_folders = True\n",
    "\n",
    "date = datetime(2022, 4, 15, 3, 2)\n",
    "#date = datetime(2022, 7, 25, 6, 31)\n",
    "date_string = str(date.date())\n",
    "\n",
    "saving = True\n",
    "\n",
    "saving = True\n",
    "pixels = True"
   ]
  },
  {
   "cell_type": "markdown",
   "id": "a6f53c93",
   "metadata": {},
   "source": [
    "position: this variable contains information about the location of SolO on the day of the event as well as the travel time of light and electrons with energy corresponding to the lowest STEP energy channel (4 keV) and the highest HET energy channel (10 MeV)."
   ]
  },
  {
   "cell_type": "code",
   "execution_count": 3,
   "id": "eeffe7fb",
   "metadata": {},
   "outputs": [
    {
     "name": "stdout",
     "output_type": "stream",
     "text": [
      "INFO: Obtained JPL HORIZONS location for Solar Orbiter (spacecraft) (-144 [sunpy.coordinates.ephemeris]\n",
      "-------------------------------------------  -----  -----------\n",
      "Distance of SolO from the Sun                [AU]      0.5\n",
      "Length of the Parker Spiral for 400 km/s sw  [AU]      0.517716\n",
      "Travel time of 4 keV protons                 [min]  1473.42\n",
      "Travel time of 100 MeV protons               [min]    29.7036\n",
      "Travel time of light                         [min]     4.15837\n",
      "-------------------------------------------  -----  -----------\n"
     ]
    },
    {
     "name": "stderr",
     "output_type": "stream",
     "text": [
      "WARNING: AstropyDeprecationWarning: ``id_type``s 'majorbody' and 'id' are deprecated and replaced with ``None``, which has the same functionality. [astroquery.jplhorizons.core]\n"
     ]
    }
   ],
   "source": [
    "position = position_and_traveltime(date, species) # !!!!!!"
   ]
  },
  {
   "cell_type": "markdown",
   "id": "3baa97a6",
   "metadata": {},
   "source": [
    "### INPUTS FOR PLOTTING AND FITTING"
   ]
  },
  {
   "cell_type": "markdown",
   "id": "6f84ff7a",
   "metadata": {},
   "source": [
    "Choose a viewing direction and time averaging for the data.\n",
    "<br> __direction__ (string): 'sun', 'asun', 'north', 'south'    NOTE: STEP has 'sun' direction only. \n",
    "<br> __avraging__(int):  data averaging in minutes\n",
    "<br> __ion_correction__ (bool): if True will use ion corrected EPT data (use only if inclusing EPT data)\n",
    "<br> __bg_subtractio__ (bool): if True will use background subtracted data (else choose False)\n",
    "<br> __step__ (bool): if True step data will be dowloaded and plotted\n",
    "<br> __ept__ (bool): if True ept data will be dowloaded and plotted\n",
    "<br> __het__ (bool): if True het data will be dowloaded and plotted\n",
    "<br> __fit_type__ (string): the combination of instriment data that will be fit. Options: 'step', 'ept', 'het', 'step_ept', 'ept_het', 'step_ept_het'\n",
    "<br> __which_fit__ (string): the type of pl function that will be fit to the data. Note that if the data cannot be fit with a specific function the software will choose the next best option. Options: \n",
    "<br> __'single'__ will force a single pl fit to the data.\n",
    "<br> __'broken'__ will force a broken pl fit to the data but ONLY if the break point is within the energy range otherwise a sigle pl fit will be produced instead.\n",
    "<br> __'best_sb'__ will choose automatically the best fit type between single and broken by comparing the redchis of the fits.\n",
    "<br> __'cut'__ will produce a single pl fit with an exponential cutoff point. If the cutoff point is outside of the energy range a broken or single pl will be fit instead.\n",
    "<br> __'broken_cut'__ will produce a broken pl fit with an exponential cutoff point. If the cutoff point is outside of the energy range a broken, cut or single pl will be fit instead.\n",
    "<br> __'best_cb'__ will choose automatically the best fit type between broken and cut by comparing the redchis of the fits. A single pl will be fit to the data if the other fits are not physical. \n",
    "<br> __'triple'__ will try to fit a triple pl to the data. If this is not possible, the next best option will be fit to the data. \n",
    "<br> __'best'__ will automatically choose the best out of all the fitting options."
   ]
  },
  {
   "cell_type": "code",
   "execution_count": 4,
   "id": "39ac2367",
   "metadata": {},
   "outputs": [],
   "source": [
    "# !!!!\n",
    "direction = 'sun'\n",
    "averaging = '1min'#0.05\n",
    "\n",
    "ion_correction = False\n",
    "bg_subtraction = True\n",
    "\n",
    "step = True\n",
    "ept = True\n",
    "het = True\n",
    "\n",
    "fit_type= 'step_ept'\n",
    "which_fit = 'broken'"
   ]
  },
  {
   "cell_type": "markdown",
   "id": "2b59c986",
   "metadata": {},
   "source": [
    "### NON-NECESSARY INPUTS"
   ]
  },
  {
   "cell_type": "markdown",
   "id": "3b024fc0",
   "metadata": {},
   "source": [
    "#### PLOTTING TIMESERIES AND SPECTRUM (NO FIT)\n",
    "The following inputs can be changed, but the notebook will run without any furher changes.\n",
    "<br> __start_date__ and __end_date__ (int or datetime): The start and end date to download data. These should be different only in case the event occurs close to midnight. Automatically done if the event is less that 4h from midnight. Format: datetime(yyyy, mm, dd) or yyyymmdd.\n",
    "<br> __plot_start__ and __plot_end__ (string): The start and end time for the timeseries plot. Automatically taken as $\\pm$4h. Format: 'yyyy-mm-dd-HHMM'\n",
    "<br> __t_inj__ (string): taken automatically from previously defined value (date). Also this value is changed by using the light travel time (position) to fit the peak into the search window. This value is fixed to the highest HET channel (close traveltime to light tt for electrons), the rest of the window times are calculated using velocity dispersion.\n",
    "<br> For the background there are two options: either a fixed bg window that starts and ends at the same time for each energy channel or a bg window that follows the peak search window (beacuse of velocity dispersion at different times for different energy channels). \n",
    "For a fixed bg window: __bg_start__ and __bg_end__ (string, defaults to None) 'yyyy-mm-dd-HHMM'\n",
    "For a bg window that follows the peaxk search window: __bg_distance from window__ (int, defauts to 120): the distance of the start time of the bg window from the start of the search window in minutes. __bg_period__ (int, defaults to 60) the length of the bg window in minutes.\n",
    "<br> __travel_distance__ (float): Length of the Parker Spiral in AU. This is taken automatically from the position variable.\n",
    "<br> __travel_distance_second_slope__ (float, defaults to None): __travel_distance_second_slope__ > __travel_distance__ If specified this will create a peak search window that broadens at lower energies. If specified set fixed_window = None.\n",
    "<br> __fixed_window__ (int, defauts to 60): the length of the search window in minutes. \n",
    "<br> __autodownload__ (bool, defaults to True): If True will automatically download the data to analyse the event.\n",
    "<br> __data_type__ (string, defaults to 'l2'): 'll' = low latency, 'l1' = level 1 data, 'l2' = level 2 data for scientific research.\n",
    "<br> __plot_pa__ (bool, defauts to True): plots the pitch angle coverage for the event."
   ]
  },
  {
   "cell_type": "code",
   "execution_count": 5,
   "id": "3575b9fd",
   "metadata": {},
   "outputs": [
    {
     "ename": "NameError",
     "evalue": "name 'contamination_threshold' is not defined",
     "output_type": "error",
     "traceback": [
      "\u001b[0;31m---------------------------------------------------------------------------\u001b[0m",
      "\u001b[0;31mNameError\u001b[0m                                 Traceback (most recent call last)",
      "Cell \u001b[0;32mIn[5], line 15\u001b[0m\n\u001b[1;32m     12\u001b[0m t_inj \u001b[38;5;241m=\u001b[39m \u001b[38;5;28mstr\u001b[39m(date)[:\u001b[38;5;241m-\u001b[39m\u001b[38;5;241m3\u001b[39m]\u001b[38;5;241m.\u001b[39mreplace(\u001b[38;5;124m'\u001b[39m\u001b[38;5;124m \u001b[39m\u001b[38;5;124m'\u001b[39m, \u001b[38;5;124m'\u001b[39m\u001b[38;5;124m-\u001b[39m\u001b[38;5;124m'\u001b[39m)\u001b[38;5;241m.\u001b[39mreplace(\u001b[38;5;124m'\u001b[39m\u001b[38;5;124m:\u001b[39m\u001b[38;5;124m'\u001b[39m, \u001b[38;5;124m'\u001b[39m\u001b[38;5;124m'\u001b[39m)\n\u001b[1;32m     13\u001b[0m date_folder \u001b[38;5;241m=\u001b[39m t_inj\n\u001b[0;32m---> 15\u001b[0m \u001b[38;5;28;01mif\u001b[39;00m \u001b[43mcontamination_threshold\u001b[49m \u001b[38;5;241m==\u001b[39m \u001b[38;5;28;01mNone\u001b[39;00m:\n\u001b[1;32m     16\u001b[0m     threshold_folders \u001b[38;5;241m=\u001b[39m \u001b[38;5;28;01mFalse\u001b[39;00m\n\u001b[1;32m     17\u001b[0m \u001b[38;5;28;01mif\u001b[39;00m create_sub_folders:\n",
      "\u001b[0;31mNameError\u001b[0m: name 'contamination_threshold' is not defined"
     ]
    }
   ],
   "source": [
    "startdate = date-timedelta(hours = 6)\n",
    "start_date = startdate.date()\n",
    "enddate = date+timedelta(hours = 48)\n",
    "end_date = enddate.date()\n",
    "\n",
    "#plot_start = str(date-timedelta(hours = 0, minutes = 7))[:-3].replace(' ', '-').replace(':', '')\n",
    "#plot_end = str(date+timedelta(hours = 0, minutes = 7))[:-3].replace(' ', '-').replace(':', '')\n",
    "plot_start = str(date-timedelta(hours = 5))[:-3].replace(' ', '-').replace(':', '')\n",
    "plot_end = str(date+timedelta(hours = 48))[:-3].replace(' ', '-').replace(':', '')\n",
    "\n",
    "\n",
    "t_inj = str(date)[:-3].replace(' ', '-').replace(':', '')\n",
    "date_folder = t_inj\n",
    "    \n",
    "if contamination_threshold == None:\n",
    "    threshold_folders = False\n",
    "if create_sub_folders:\n",
    "    create_new_path(path, t_inj, threshold_folders = threshold_folders, contamination_threshold = contamination_threshold, plots_n_data = plot_n_data_folders)\n",
    "    path_to_folder = path+t_inj+'/'\n",
    "    plot_path = path_to_folder\n",
    "if threshold_folders:\n",
    "    path_to_folder = path_to_folder+'contamination_threshold_'+str(contamination_threshold)+'/'\n",
    "if plot_n_data_folders:\n",
    "    plot_path = path_to_folder+'plots'\n",
    "\n",
    "\n",
    "\n",
    "#t_inj = str(date+timedelta(hours = 0, minutes = 0)).replace(' ', '-').replace(':', '')\n",
    "\n",
    "print(date_folder)\n",
    "print(t_inj)\n",
    "\n",
    "bg_start = None \n",
    "bg_end = None\n",
    "#bg_distance_from_window = '3.5min'\n",
    "#bg_period = '3.5min'\n",
    "\n",
    "travel_distance = 0\n",
    "travel_distance_second_slope = None\n",
    "fixed_window = '1h' #either input time period in minutes or None\n",
    "\n",
    "\n",
    "bg_distance_from_window = '1h'\n",
    "bg_period = '1h'\n",
    "\n",
    "#travel_distance = position[0][2]\n",
    "#travel_distance_second_slope = travel_distance * 10\n",
    "#fixed_window = None#'1H' #either input time period in minutes or None\n",
    "\n",
    "autodownload_data = True\n",
    "data_type = 'l2'\n",
    "plot_pa = True\n"
   ]
  },
  {
   "cell_type": "markdown",
   "id": "0368955f",
   "metadata": {},
   "source": [
    "#### INPUTS FOR THE FIT\n",
    "<br> __c1_guess__ (int or float, defaults to 1000): the flux value corresponding to 0.1 MeV\n",
    "<br> __g1_guess__ (int or float, defaults to -1.9): the slope of a single pl or the first part of a broken or triple pl. __g1_guess__ > __g2_guess__, __g3_guess__ and __g1_guess__< 0.\n",
    "<br> __g2_guess__ (int or float, defaults to -2.5): the slope of the broken pl after the break or the slope between the two breaks for a triple pl. __g1_guess__> __g2_guess__ >  __g3_guess__ and __g2_guess__< 0.\n",
    "<br> __g3_guess__ (int or float, defaults to -4): the slope of a triple pl after the second break. __g1_guess__, __g2_guess__ >  __g3_guess__ and __g3_guess__< 0.\n",
    "<br> __alpha_guess__ and __beta_guess__ (int or float, defaults to 10): the smoothness of the first and second break respectively.\n",
    "<br> __break_guess_low__ (int or float, defaults to 0.6 MeV): the energy corresponding to the first break in the spectrum (in MeV).\n",
    "<br>__break_guess_high__ (int or float, defaults to 1.2 MeV): the energy corresponding to the second break in the spectrum (in MeV).\n",
    "<br> __cut_guess__ (int or float, defaults to 1.2 MeV): the energy corresponding to the exponential cutoff in the spectrum (in MeV).\n",
    "<br> __fit_to__ (string, defaults to 'peak'): 'peak' or 'average'\n",
    "<br> __e_min__ and __e_max__ (int or float, defaults to None): minimum and maximum energy to fit. If None will automatically be taken as min and max fittable values. step energy range: 0.004323343613-0.07803193193 MeV, ept energy range: 0.03295087252-0.452730295 MeV, het energy range: 0.6859485403-10.62300288 MeV, second het channel: 1.590048112 MeV\n",
    "<br> __use_random__ (bool, defaults to True): if True the software will choose random values close to the guess values that will be fit to the data to find the fit with the lowest redchisq.\n",
    "<br> __random_iterations__ (int, defaults to 20): number of times the random values will be chosen.\n",
    "<br> __sigma__ (int, defaults to 3.): standard deviation from the background.\n",
    "<br> __rel_err__ (float, defaults to 0.5): The absolute value of the uncertainty of the bg subtracted flux peak divided by the bg subtracted peak.\n",
    "<br> __frac_nan_threshold__ (float, defaults to 0.9): exclude all spectrum values with fraction of non-nan data points in search window lower than the corresponding value.\n",
    "<br> __leave_out_1st_het_chan__ (bool, defaults to True): If True, the first HET channel will be left out from the fit.\n",
    "<br> __shift_step_data__ (bool, defaults to False): If True, STEP data will be shifted (up or down, intensity wise) by a factor equal to shift_factor.\n",
    "<br> __shift_factor__ (float, defaults to None): Factor to shift STEP data (e.g. 0.8). \n",
    "<br> __legend_details__ (bool, optional): If True, the final fit type and the reduced chi square will be dislayed in the legend.\n",
    "\t\n"
   ]
  },
  {
   "cell_type": "code",
   "execution_count": null,
   "id": "444137b4",
   "metadata": {},
   "outputs": [],
   "source": [
    "# !!! part of the documentation needs to be moved to the fitting cell in the bottom\n",
    "# probably most content of this cell should be moved down\n",
    "if saving:\n",
    "    save_fig = True\n",
    "    save_fit_variables = True\n",
    "    save_fitrun = True\n",
    "\n",
    "sigma = 3\n",
    "rel_err = 0.5\n",
    "frac_nan_threshold = 0.9\n",
    "leave_out_1st_het_chan = False\n",
    "shift_step_data = False\n",
    "shift_factor = None #0.8\n",
    "\n"
   ]
  },
  {
   "cell_type": "markdown",
   "id": "863a9d84",
   "metadata": {},
   "source": [
    "## LOAD DATA"
   ]
  },
  {
   "cell_type": "code",
   "execution_count": null,
   "id": "f844737d",
   "metadata": {
    "scrolled": true
   },
   "outputs": [],
   "source": [
    "if plot_pa:\n",
    "    msdate = dt.datetime.combine(pd.to_datetime(plot_start).date(), dt.time.min)\n",
    "    medate = dt.datetime.combine(pd.to_datetime(plot_end).date()+ dt.timedelta(days=1), dt.time.min) #+ dt.timedelta(days=1)\n",
    "\n",
    "    mag_srf = solo_mag_loader(msdate, medate, level='l2', frame='srf', av=None, path=path_to_folder)\n",
    "    "
   ]
  },
  {
   "cell_type": "code",
   "execution_count": null,
   "id": "b4294ec9",
   "metadata": {},
   "outputs": [],
   "source": [
    "if step:   \n",
    "    # read in STEP original data to df_particles_step_org. electron fluxes calculated later with calc_electrons\n",
    "    df_particles_step_org, energies_step = epd_load(sensor='step', level='l2', startdate=start_date, \n",
    "                                                    enddate=end_date, path=path_to_folder, autodownload=True, \n",
    "                                                    only_averages=True)\n",
    "    "
   ]
  },
  {
   "cell_type": "code",
   "execution_count": null,
   "id": "ba7d9aba",
   "metadata": {},
   "outputs": [],
   "source": [
    "if ept:\n",
    "    df_protons_ept, df_electrons_ept, energies_ept = epd_load(sensor = 'ept', viewing = direction, level = 'l2',\n",
    "                                                                  startdate = start_date, enddate = end_date, \n",
    "                                                                  path=path_to_folder, autodownload=True)\n",
    "    "
   ]
  },
  {
   "cell_type": "code",
   "execution_count": null,
   "id": "c9b67f92",
   "metadata": {},
   "outputs": [],
   "source": [
    "if het:  \n",
    "    df_protons_het, df_electrons_het, energies_het = epd_load(sensor = 'het', viewing = direction, level = 'l2',\n",
    "                                                            startdate = start_date, enddate = end_date, \n",
    "                                                            path=path_to_folder, autodownload=True)\n",
    "   "
   ]
  },
  {
   "cell_type": "markdown",
   "id": "b033b936",
   "metadata": {},
   "source": [
    "## STEP"
   ]
  },
  {
   "cell_type": "code",
   "execution_count": null,
   "id": "4fdefe35",
   "metadata": {
    "scrolled": false
   },
   "outputs": [],
   "source": [
    "# !!!!!!\n",
    "if step:\n",
    "    if plot_pa:\n",
    "        mag_srf = mag_srf.resample(averaging).mean()\n",
    "        coverage = calc_pa_coverage('step', mag_srf)\n",
    "    else:\n",
    "        coverage = None\n",
    "    # calculate resampled STEP electron fluxes (+ ions)\n",
    "    if species.lower() in ['electron', 'electrons', 'e']:\n",
    "        contamination_threshold = 1  # either None or an integer >0\n",
    "        df_particles_step = calc_electrons(df=df_particles_step_org, meta=energies_step, \n",
    "                                       contamination_threshold=contamination_threshold, only_averages=True,\n",
    "                                       resample=averaging)\n",
    "        data_step = extract_electron_data(df_particles_step, energies_step, plot_start, plot_end, t_inj, \n",
    "                                      bgstart = bg_start , bgend = bg_end, bg_distance_from_window = bg_distance_from_window, \n",
    "                                      bg_period = bg_period, travel_distance = travel_distance, \n",
    "                                      travel_distance_second_slope = travel_distance_second_slope, fixed_window = fixed_window, \n",
    "                                      instrument = 'step', data_type = 'l2', averaging=averaging, \n",
    "                                      masking=False)\n",
    "        bg_b = False\n",
    "        plot_channels_electrons(data_step, bg_subtraction=bg_b, path=plot_path, savefig=saving, plot_pa=plot_pa, coverage=coverage, sensor = 'step', sigma = sigma, frac_nan_threshold = frac_nan_threshold, rel_err_threshold = rel_err)\n",
    "    if species.lower() in ['proton', 'protons', 'p']:\n",
    "        df_particles_step = df_particles_step_org.resample(averaging).mean()\n",
    "        data_step = extract_proton_data(df_particles_step, energies_step, plot_start, plot_end, t_inj, \n",
    "                              bgstart = bg_start , bgend = bg_end, bg_distance_from_window = bg_distance_from_window, \n",
    "                              bg_period = bg_period, travel_distance = travel_distance, \n",
    "                              travel_distance_second_slope = travel_distance_second_slope, fixed_window = fixed_window, \n",
    "                              instrument = 'step', data_type = 'l2', averaging=averaging)\n",
    "        bg_b = False\n",
    "        plot_channels_protons(data_step, bg_subtraction=bg_b, path=path_to_folder, savefig=saving, plot_pa=plot_pa, coverage=coverage, sensor = 'step', sigma = sigma, frac_nan_threshold = frac_nan_threshold, rel_err_threshold = rel_err)\n",
    "    \n",
    "    bg_b = False\n",
    "    plot_spectrum_peak(data_step, species, bg_subtraction=bg_b, path=path_to_folder, savefig=saving, sigma = sigma, frac_nan_threshold = frac_nan_threshold, rel_err_threshold= rel_err, direction = direction)\n",
    "    plot_spectrum_average(data_step, species, bg_subtraction=bg_b, savefig=saving, path=path_to_folder, sigma=sigma, frac_nan_threshold=frac_nan_threshold, rel_err_threshold=rel_err, direction=direction)\n",
    "    \n",
    "    if saving: write_to_csv(data_step, date_string, direction, species, path=path_to_folder)\n",
    "    \n"
   ]
  },
  {
   "cell_type": "markdown",
   "id": "daa0222f",
   "metadata": {},
   "source": [
    "## EPT"
   ]
  },
  {
   "cell_type": "code",
   "execution_count": null,
   "id": "88bf3bfe",
   "metadata": {},
   "outputs": [],
   "source": [
    "# !!!!!!\n",
    "if ept:\n",
    "    if plot_pa:\n",
    "        mag_srf = mag_srf.resample(averaging).mean()\n",
    "        coverage = calc_pa_coverage('ept', mag_srf)\n",
    "    else:\n",
    "        coverage = None\n",
    "\n",
    "    if species.lower() in ['electron', 'electrons', 'e']:    \n",
    "        ion_b = ion_correction\n",
    "        data_ept = extract_electron_data(df_electrons_ept, energies_ept, plot_start, plot_end, t_inj, bgstart = bg_start, \n",
    "                                     bgend = bg_end, bg_distance_from_window = bg_distance_from_window, bg_period = bg_period, \n",
    "                                     travel_distance = travel_distance, travel_distance_second_slope=travel_distance_second_slope, \n",
    "                                     fixed_window=fixed_window, instrument = 'ept', data_type = 'l2', averaging=averaging, masking=True, \n",
    "                                     ion_conta_corr=ion_b, df_protons = df_protons_ept)\n",
    "        bg_b = False\n",
    "        plot_channels_electrons(data_ept, bg_subtraction=bg_b, path=path_to_folder, savefig=saving, plot_pa=plot_pa, coverage=coverage, sensor = 'ept', sigma = sigma, frac_nan_threshold = frac_nan_threshold, rel_err_threshold = rel_err, viewing = direction)\n",
    "        \n",
    "    if species.lower() in ['proton', 'protons', 'p']:\n",
    "        data_ept = extract_proton_data(df_protons_ept, energies_ept, plot_start, plot_end, t_inj, bgstart = bg_start, \n",
    "                                     bgend = bg_end, bg_distance_from_window = bg_distance_from_window, bg_period = bg_period, \n",
    "                                     travel_distance = travel_distance, travel_distance_second_slope=travel_distance_second_slope, \n",
    "                                     fixed_window=fixed_window, instrument = 'ept', data_type = 'l2', \n",
    "                                     averaging=averaging)\n",
    "        bg_b = False\n",
    "        plot_channels_protons(data_ept, bg_subtraction=bg_b, path=path_to_folder, savefig=saving, plot_pa=plot_pa, coverage=coverage, sensor = 'ept', sigma = sigma, frac_nan_threshold = frac_nan_threshold, rel_err_threshold = rel_err, viewing = direction)\n",
    "    \n",
    "    bg_b = True\n",
    "    plot_spectrum_peak(data_ept, species, bg_subtraction=bg_b, path=path_to_folder, savefig=saving, sigma = sigma, frac_nan_threshold = frac_nan_threshold, rel_err_threshold = rel_err, direction = direction) \n",
    "    plot_spectrum_average(data_ept, species, bg_subtraction=bg_b, path=path_to_folder, savefig=saving, direction=direction)\n",
    "\n",
    "    \n",
    "    if saving: write_to_csv(data_ept, date_string, direction, species, path=path_to_folder)\n"
   ]
  },
  {
   "cell_type": "markdown",
   "id": "16d2a01c",
   "metadata": {},
   "source": [
    "## HET"
   ]
  },
  {
   "cell_type": "code",
   "execution_count": null,
   "id": "d6345970",
   "metadata": {},
   "outputs": [],
   "source": [
    "# !!!!!!\n",
    "if het:\n",
    "    if plot_pa:\n",
    "        mag_srf = mag_srf.resample(averaging).mean()\n",
    "        coverage = calc_pa_coverage('het', mag_srf)\n",
    "        \n",
    "    if species.lower() in ['electron', 'electrons', 'e']:\n",
    "        data_het = extract_electron_data(df_electrons_het, energies_het, plot_start, plot_end, t_inj, \n",
    "                                     bgstart = bg_start, bgend = bg_end,  bg_distance_from_window = bg_distance_from_window,\n",
    "                                     bg_period = bg_period, travel_distance = travel_distance, \n",
    "                                     travel_distance_second_slope = travel_distance_second_slope, \n",
    "                                     fixed_window = fixed_window, instrument='het', data_type='l2', \n",
    "                                     averaging=averaging, df_protons = df_protons_het)\n",
    "        bg_b = False\n",
    "        plot_channels_electrons(data_het, bg_subtraction=bg_b, path=path_to_folder, savefig=saving, plot_pa=plot_pa, coverage=coverage, sensor = 'het', sigma = sigma, frac_nan_threshold = frac_nan_threshold, rel_err_threshold = rel_err, viewing = direction)\n",
    "\n",
    "    if species.lower() in ['proton', 'protons', 'p']:    \n",
    "        data_het = extract_proton_data(df_protons_het, energies_het, plot_start, plot_end, t_inj, \n",
    "                                     bgstart = bg_start, bgend = bg_end,  bg_distance_from_window = bg_distance_from_window,\n",
    "                                     bg_period = bg_period, travel_distance = travel_distance, \n",
    "                                     travel_distance_second_slope = travel_distance_second_slope, \n",
    "                                     fixed_window = fixed_window, instrument='het', data_type='l2', \n",
    "                                     averaging=averaging)\n",
    "        bg_b = False\n",
    "        plot_channels_protons(data_het, bg_subtraction=bg_b, path=path_to_folder, savefig=saving, plot_pa=plot_pa, coverage=coverage, sensor = 'het', sigma = sigma, frac_nan_threshold = frac_nan_threshold, rel_err_threshold = rel_err, viewing = direction)\n",
    "    \n",
    "    bg_b = True\n",
    "    plot_spectrum_peak(data_het, species, bg_subtraction=bg_b, path=path_to_folder, savefig=saving, sigma = sigma, frac_nan_threshold = frac_nan_threshold, rel_err_threshold = rel_err, direction = direction)\n",
    "    plot_spectrum_average(data_ept, species, bg_subtraction=bg_b, path=path_to_folder, savefig=saving, frac_nan_threshold=frac_nan_threshold, direction=direction)      \n",
    "\n",
    "    if saving: write_to_csv(data_het, date_string, direction, species, path=path_to_folder)\n",
    "    "
   ]
  },
  {
   "cell_type": "markdown",
   "id": "1aa2d11e",
   "metadata": {},
   "source": [
    "## FIT"
   ]
  },
  {
   "cell_type": "code",
   "execution_count": null,
   "id": "58af7765",
   "metadata": {
    "scrolled": false
   },
   "outputs": [],
   "source": [
    "# !!!!\n",
    "# proton input:\n",
    "#c1_guess = 10000\n",
    "#g1_guess = -1.6\n",
    "#g2_guess = -1.8\n",
    "#g3_guess = -2\n",
    "#alpha_guess = 0.5\n",
    "#beta_guess = 10\n",
    "#break_guess_low = 0.2\n",
    "#break_guess_high = 10\n",
    "#cut_guess = 20\n",
    "\n",
    "c1_guess = 1000\n",
    "g1_guess = -1.6\n",
    "g2_guess = -1.8\n",
    "g3_guess = -2\n",
    "alpha_guess = 0.5\n",
    "beta_guess = 10\n",
    "break_guess_low = 0.02\n",
    "break_guess_high = 0.02\n",
    "cut_guess = 0.03\n",
    "\n",
    "use_random = True\n",
    "random_iterations = 20\n",
    "\n",
    "fit_to = 'average'\n",
    "fit_type = 'step_ept_het'\n",
    "e_min = None\n",
    "e_max = None\n",
    "\n",
    "\n",
    "#fit_to = 'average'\n",
    "#e_min = 0.055\n",
    "#e_max = 0.63\n",
    "\n",
    "which_fit = 'best'\n",
    "detailed_legend = True\n",
    "\n",
    "\n",
    "if species.lower() in ['proton', 'protons', 'p']:    \n",
    "    ion_correction = False\n",
    "\n",
    "\n",
    "FIT_DATA(path_to_folder, date, averaging = averaging, fit_type= fit_type, step = step, ept = ept, het = het, \n",
    "         which_fit = which_fit, sigma = sigma, rel_err = rel_err, frac_nan_threshold = frac_nan_threshold, fit_to = fit_to, \n",
    "         e_min = e_min, e_max = e_max, g1_guess = g1_guess, g2_guess = g2_guess, g3_guess = g3_guess, c1_guess = c1_guess, \n",
    "         alpha_guess = alpha_guess, beta_guess = beta_guess, break_guess_low = break_guess_low, break_guess_high = break_guess_high, cut_guess = cut_guess, \n",
    "         use_random = use_random, iterations = random_iterations, leave_out_1st_het_chan = leave_out_1st_het_chan, shift_step_data = shift_step_data, \n",
    "         shift_factor = shift_factor, save_fig = saving, save_pickle = False, save_fit_variables = saving, save_fitrun = saving, legend_details = detailed_legend, \n",
    "         ion_correction = ion_correction, bg_subtraction = bg_subtraction, direction = direction)"
   ]
  },
  {
   "cell_type": "code",
   "execution_count": null,
   "id": "d79ad90a",
   "metadata": {},
   "outputs": [],
   "source": [
    "\n"
   ]
  },
  {
   "cell_type": "code",
   "execution_count": null,
   "id": "8c4dd5b5",
   "metadata": {},
   "outputs": [],
   "source": [
    "if averaging<1.:\n",
    "    avg_str = str(int(averaging*60))+'s'\n",
    "else:\n",
    "    avg_str = str(averaging)+'min'\n",
    "\n",
    "if save_fit_run_variables_to_separate_folders:\n",
    "    fit_var_file = date_folder+'-fit-result-variables_'+fit_type+'-'+fit_to+'-'+which_fit+'-l2-'+avg_str+'-'+direction+'.csv'\n",
    "    run_var_file = date_folder+'-all-fit-variables_'+fit_type+'-'+fit_to+'-'+which_fit+'-l2-'+avg_str+'-'+direction+'.csv'\n",
    "\n",
    "    save_fit_and_run_variables_to_separate_folders(path, date_folder, fit_var_file, run_var_file)"
   ]
  },
  {
   "cell_type": "code",
   "execution_count": null,
   "id": "effc3815",
   "metadata": {},
   "outputs": [],
   "source": []
  },
  {
   "cell_type": "code",
   "execution_count": null,
   "id": "19f7d0db",
   "metadata": {},
   "outputs": [],
   "source": []
  }
 ],
 "metadata": {
  "kernelspec": {
   "display_name": "Python 3 (ipykernel)",
   "language": "python",
   "name": "python3"
  },
  "language_info": {
   "codemirror_mode": {
    "name": "ipython",
    "version": 3
   },
   "file_extension": ".py",
   "mimetype": "text/x-python",
   "name": "python",
   "nbconvert_exporter": "python",
   "pygments_lexer": "ipython3",
   "version": "3.10.4"
  }
 },
 "nbformat": 4,
 "nbformat_minor": 5
}
