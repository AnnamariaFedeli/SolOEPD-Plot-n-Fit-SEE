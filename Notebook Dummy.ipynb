{
 "cells": [
  {
   "cell_type": "code",
   "execution_count": 9,
   "id": "d4671d54",
   "metadata": {
    "scrolled": true
   },
   "outputs": [],
   "source": [
    "from run_dummy import *"
   ]
  },
  {
   "cell_type": "markdown",
   "id": "cd90048e",
   "metadata": {},
   "source": [
    "## Loading the data files\n",
    "\n",
    "#### NOTE: the file should include of course both x-axis and y-axis data in this order followed by x-axis error data and y-axis error data. If the uncertainy is not provided it will be taken as 10% of the x and y data\n"
   ]
  },
  {
   "cell_type": "code",
   "execution_count": 2,
   "id": "75f36441",
   "metadata": {},
   "outputs": [],
   "source": [
    "path_to_file = r'C:/Users/Omistaja/Desktop/SRL/2021SRL/messenger/event1.txt'\n",
    "path_to_savefig =  r'C:/Users/Omistaja/Desktop/SRL/2021SRL/messenger/' # if savefig is true\n",
    "\n",
    "uncertainty_data_included = False # if the uncertainty is not included it willbe taken as 10%\n",
    "\n",
    "plot_title = 'MESSENGER event 1'\n",
    "x_label = 'primary energy (MeV)'\n",
    "y_label = 'Flux\\n/(s cm² sr MeV)'\n",
    "legend_title = 'Electrons' "
   ]
  },
  {
   "cell_type": "markdown",
   "id": "10f79262",
   "metadata": {},
   "source": [
    "## INPUTS FOR THE FIT\n",
    "\n",
    "## which_fit options: \n",
    "#### 'single' will force a single pl fit to the data\n",
    "#### 'broken' will force a broken pl fit to the data but ONLY if the break point is within the energy range otherwise a sigle pl fit will be produced instead\n",
    "#### 'best_sb' will choose automatically the best fit type between single and broken by comparing the redchis of the fits\n",
    "#### 'best' will choose automatically the best fit type by comparing the redchis of the fits\n",
    "#### 'cut' will produce a single pl fit with an exponential cutoff point. If the cutoff point is outside of the energy range a broken or single pl will be fit instead\n",
    "#### 'broken_cut' will produce a broken pl fit with an exponential cutoff point. If the cutoff point is outside of the energy range a broken or single pl will be fit instead\n",
    "#### 'best_cb' will choose the better option between a broken pl and a single+cutoff. If the break and cutoff points are outside of the energy range a single pl will be fit instead.\n"
   ]
  },
  {
   "cell_type": "code",
   "execution_count": 3,
   "id": "0f7ed199",
   "metadata": {},
   "outputs": [],
   "source": [
    "which_fit = 'best' "
   ]
  },
  {
   "cell_type": "markdown",
   "id": "4354e7c3",
   "metadata": {},
   "source": [
    "## Guess values and energy range\n",
    "#### NOTE: e_min, e_max, break_guess and cut_guess should bein MeV. e_min and e_max can also be None. In this case the MAKE_THE_FIT function will automaically choose the values. (energy on x-axis)"
   ]
  },
  {
   "cell_type": "code",
   "execution_count": 4,
   "id": "19f43608",
   "metadata": {},
   "outputs": [],
   "source": [
    "e_min =  None # in MeV \n",
    "e_max =\t0.089 # in MeV\n",
    "g1_guess = -1.9 # gamma 1 -> spectral index before the break (or single pl)\n",
    "g2_guess = -2.5 # gamma 2 -> spectral index after the break \n",
    "c1_guess = 1e2 # peak flux\n",
    "alpha_guess = 7.16 # sharpness of the break\n",
    "break_guess = 0.1 #in MeV\n",
    "cut_guess = 0.12 #in MeV"
   ]
  },
  {
   "cell_type": "markdown",
   "id": "e7ac2c28",
   "metadata": {},
   "source": [
    "## Random and iterations\n",
    "#### if use_random = False the fit will only be made once with the guess values\n",
    "#### if use_random = True the fitting function will first create a list of reasonable values for each of the fitting parameters then randomly select values from the lists and compare the redchis of each fit to find the best one"
   ]
  },
  {
   "cell_type": "code",
   "execution_count": 7,
   "id": "af41670a",
   "metadata": {},
   "outputs": [],
   "source": [
    "use_random = True \n",
    "iterations = 20"
   ]
  },
  {
   "cell_type": "markdown",
   "id": "2b5cccb0",
   "metadata": {},
   "source": [
    "## Saving data \n",
    "#### You can choose to save the plot (savefig), the ODR run as a pickle file (save_pickle) and save all the variables from the fitting procedure (save_fit_variables) by setting the options below to True"
   ]
  },
  {
   "cell_type": "code",
   "execution_count": 6,
   "id": "51408fb1",
   "metadata": {},
   "outputs": [],
   "source": [
    "savefig = False # save the fit\n",
    "save_pickle = False # save a pickle file of the odr run\n",
    "save_fit_variables = False # save the variables from the fit"
   ]
  },
  {
   "cell_type": "code",
   "execution_count": null,
   "id": "c3d18305",
   "metadata": {},
   "outputs": [],
   "source": []
  }
 ],
 "metadata": {
  "kernelspec": {
   "display_name": "Python 3 (ipykernel)",
   "language": "python",
   "name": "python3"
  },
  "language_info": {
   "codemirror_mode": {
    "name": "ipython",
    "version": 3
   },
   "file_extension": ".py",
   "mimetype": "text/x-python",
   "name": "python",
   "nbconvert_exporter": "python",
   "pygments_lexer": "ipython3",
   "version": "3.10.4"
  }
 },
 "nbformat": 4,
 "nbformat_minor": 5
}
