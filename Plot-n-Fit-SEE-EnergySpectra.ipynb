{
 "cells": [
  {
   "cell_type": "code",
   "execution_count": 1,
   "id": "a80aa388",
   "metadata": {
    "scrolled": true
   },
   "outputs": [],
   "source": [
    "# Run only once to install new version of solo_epd_loader\n",
    "#%pip install --upgrade solo_epd_loader\n",
    "#%pip install solo_epd_loader==0.2.8"
   ]
  },
  {
   "cell_type": "code",
   "execution_count": 2,
   "id": "ec26efc7",
   "metadata": {},
   "outputs": [
    {
     "name": "stderr",
     "output_type": "stream",
     "text": [
      "/home/annafed/anaconda3/envs/annamaria/lib/python3.10/site-packages/tqdm/auto.py:22: TqdmWarning: IProgress not found. Please update jupyter and ipywidgets. See https://ipywidgets.readthedocs.io/en/stable/user_install.html\n",
      "  from .autonotebook import tqdm as notebook_tqdm\n"
     ]
    }
   ],
   "source": [
    "from epd_plot_shift import *\n",
    "from run_the_fit import *\n",
    "from solo_epd_loader import calc_electrons"
   ]
  },
  {
   "cell_type": "markdown",
   "id": "0f040b54",
   "metadata": {},
   "source": [
    "# Notebook to plot and fit SolO EPD SEE data\n",
    "#### General information about the notebook:\n",
    "This Notebook allows the user to load, plot and fit SolO EPD SEE energy data.\n",
    "The data loading process is done by using solo-epd-loader. \n",
    "<br>This package can be installed simply by running   %pip install git+https://github.com/jgieseler/solo-epd-loader    in any cell of the notebook. Note that this should only be done once. The package can be updated by running: %pip install git+https://github.com/jgieseler/solo-epd-loader --upgrade\n",
    "<br>The data will be saved as cdf files to a local folder provided by the user. The data is then used to create dataframes of the electron data for each instrument and energy channel. \n",
    "<br>The flux data will be plotted as a timeseries. The timeseries include all the energy channels for each instrument. (add  expl pa) A flux peak will be searchered for each energy channel using the provided injection time and following the velocity dispersion. These values will then be plotted against the energy corresponding to the channels to form a spectrum. \n",
    "<br>The spectrum can then be fit with various functions to analyse its shape.\n"
   ]
  },
  {
   "cell_type": "markdown",
   "id": "186694da",
   "metadata": {},
   "source": [
    "### NECESSARY INPUTS\n",
    "Choose a folder where you wish to save the data from the loading, plotting and fitting process. \n",
    "If create_sub_folders = True, a new folder will be created for each event and the data etc will be saved there. \n",
    "<br> date : (datetime) format: datetime(yyyy, mm, dd, HH, MM) The date and approximate injection time of the event."
   ]
  },
  {
   "cell_type": "code",
   "execution_count": 3,
   "id": "27605507",
   "metadata": {},
   "outputs": [],
   "source": [
    "path =  r'/home/annafed/Documents/event_analysis/'\n",
    "create_sub_folders = True\n",
    "threshold_folders = False # if true saving to separate folders does not work. \n",
    "plot_n_data_folders = True\n",
    "save_fit_run_variables_to_separate_folders = True\n",
    "\n",
    "date = datetime(2022, 4, 15, 3, 2)\n",
    "saving = True"
   ]
  },
  {
   "cell_type": "markdown",
   "id": "a6f53c93",
   "metadata": {},
   "source": [
    "position: this variable contains information about the location of SolO on the day of the event as well as the travel time of light and electrons with energy corresponding to the lowest STEP energy channel (4 keV) and the highest HET energy channel (10 MeV)."
   ]
  },
  {
   "cell_type": "code",
   "execution_count": 4,
   "id": "eeffe7fb",
   "metadata": {},
   "outputs": [
    {
     "name": "stdout",
     "output_type": "stream",
     "text": [
      "INFO: Obtained JPL HORIZONS location for Solar Orbiter (spacecraft) (-144 [sunpy.coordinates.ephemeris]\n",
      "-------------------------------------------  -----  ---------\n",
      "Distance of SolO from the Sun                [AU]    0.5\n",
      "Length of the Parker Spiral for 400 km/s sw  [AU]    0.517716\n",
      "Travel time of 4 KeV electrons               [min]  34.613\n",
      "Travel time of 10 MeV electrons              [min]   4.31081\n",
      "Travel time of light                         [min]   4.15837\n",
      "-------------------------------------------  -----  ---------\n"
     ]
    },
    {
     "name": "stderr",
     "output_type": "stream",
     "text": [
      "WARNING: AstropyDeprecationWarning: ``id_type``s 'majorbody' and 'id' are deprecated and replaced with ``None``, which has the same functionality. [astroquery.jplhorizons.core]\n"
     ]
    }
   ],
   "source": [
    "position = position_and_traveltime(date)"
   ]
  },
  {
   "cell_type": "markdown",
   "id": "3baa97a6",
   "metadata": {},
   "source": [
    "### INPUTS FOR PLOTTING AND FITTING"
   ]
  },
  {
   "cell_type": "markdown",
   "id": "6f84ff7a",
   "metadata": {},
   "source": [
    "Choose a viewing direction and time averaging for the data.\n",
    "<br> __direction__ (string): 'sun', 'asun', 'north', 'south'    NOTE: STEP has 'sun' direction only. \n",
    "<br> __averaging__(str):  data averaging\n",
    "\n",
    "<br> Possible values:\n",
    "<br>‘W’\n",
    "<br>‘D’ / ‘days’ / ‘day’\n",
    "<br>‘hours’ / ‘hour’ / ‘hr’ / ‘h’\n",
    "<br>‘m’ / ‘minute’ / ‘min’ / ‘minutes’ / ‘T’\n",
    "<br>‘S’ / ‘seconds’ / ‘sec’ / ‘second’\n",
    "<br>‘ms’ / ‘milliseconds’ / ‘millisecond’ / ‘milli’ / ‘millis’ / ‘L’\n",
    "<br>‘us’ / ‘microseconds’ / ‘microsecond’ / ‘micro’ / ‘micros’ / ‘U’\n",
    "<br>‘ns’ / ‘nanoseconds’ / ‘nano’ / ‘nanos’ / ‘nanosecond’ / ‘N’\n",
    "\n",
    "<br> __ion_correction__ (bool): if True will use ion corrected EPT data (use only if inclusing EPT data)\n",
    "<br> __bg_subtraction__ (bool): if True will use background subtracted data (else choose False)\n",
    "<br> __step__ (bool): if True step data will be dowloaded and plotted\n",
    "<br> __ept__ (bool): if True ept data will be dowloaded and plotted\n",
    "<br> __het__ (bool): if True het data will be dowloaded and plotted\n",
    "<br> __fit_type__ (string): the combination of instriment data that will be fit. Options: 'step', 'ept', 'het', 'step_ept', 'ept_het', 'step_ept_het'\n",
    "<br> __which_fit__ (string): the type of pl function that will be fit to the data. Note that if the data cannot be fit with a specific function the software will choose the next best option. Options: \n",
    "<br> __'single'__ will force a single pl fit to the data.\n",
    "<br> __'broken'__ will force a broken pl fit to the data but ONLY if the break point is within the energy range otherwise a sigle pl fit will be produced instead.\n",
    "<br> __'best_sb'__ will choose automatically the best fit type between single and broken by comparing the redchis of the fits.\n",
    "<br> __'cut'__ will produce a single pl fit with an exponential cutoff point. If the cutoff point is outside of the energy range a broken or single pl will be fit instead.\n",
    "<br> __'broken_cut'__ will produce a broken pl fit with an exponential cutoff point. If the cutoff point is outside of the energy range a broken, cut or single pl will be fit instead.\n",
    "<br> __'best_cb'__ will choose automatically the best fit type between broken and cut by comparing the redchis of the fits. A single pl will be fit to the data if the other fits are not physical. \n",
    "<br> __'triple'__ will try to fit a triple pl to the data. If this is not possible, the next best option will be fit to the data. \n",
    "<br> __'best'__ will automatically choose the best out of all the fitting options."
   ]
  },
  {
   "cell_type": "code",
   "execution_count": 5,
   "id": "39ac2367",
   "metadata": {},
   "outputs": [],
   "source": [
    "direction = 'sun'\n",
    "averaging = '30S'\n",
    "contamination_threshold = 1  # either None or an integer >0 (STEP)\n",
    "\n",
    "ion_correction = True \n",
    "bg_subtraction = True\n",
    "\n",
    "step = True\n",
    "ept = True\n",
    "het = True\n",
    "\n",
    "fit_type= 'step'\n",
    "which_fit = 'best'\n"
   ]
  },
  {
   "cell_type": "markdown",
   "id": "2b59c986",
   "metadata": {},
   "source": [
    "### NON-NECESSARY INPUTS"
   ]
  },
  {
   "cell_type": "markdown",
   "id": "3b024fc0",
   "metadata": {},
   "source": [
    "#### PLOTTING TIMESERIES AND SPECTRUM (NO FIT)\n",
    "The following inputs can be changed, but the notebook will run without any furher changes.\n",
    "<br> __start_date__ and __end_date__ (int or datetime): The start and end date to download data. These should be different only in case the event occurs close to midnight. Automatically done if the event is less that 4h from midnight. Format: datetime(yyyy, mm, dd) or yyyymmdd.\n",
    "<br> __plot_start__ and __plot_end__ (string): The start and end time for the timeseries plot. Automatically taken as $\\pm$4h. Format: 'yyyy-mm-dd-HHMM'\n",
    "<br> __t_inj__ (string): taken automatically from previously defined value (date). Also this value is changed by using the light travel time (position) to fit the peak into the search window. This value is fixed to the highest HET channel (close traveltime to light tt for electrons), the rest of the window times are calculated using velocity dispersion.\n",
    "<br> For the background there are two options: either a fixed bg window that starts and ends at the same time for each energy channel or a bg window that follows the peak search window (beacuse of velocity dispersion at different times for different energy channels). \n",
    "For a fixed bg window: __bg_start__ and __bg_end__ (string, defaults to None) 'yyyy-mm-dd-HHMM'\n",
    "For a bg window that follows the peaxk search window: __bg_distance from window__ (int, defauts to 120): the distance of the start time of the bg window from the start of the search window in minutes. __bg_period__ (int, defaults to 60) the length of the bg window in minutes.\n",
    "<br> __travel_distance__ (float): Length of the Parker Spiral in AU. This is taken automatically from the position variable.\n",
    "<br> __travel_distance_second_slope__ (float, defaults to None): __travel_distance_second_slope__ > __travel_distance__ If specified this will create a peak search window that broadens at lower energies. If specified set fixed_window = None.\n",
    "<br> __fixed_window__ (int, defauts to 60): the length of the search window in minutes. \n",
    "<br> __autodownload__ (bool, defaults to True): If True will automatically download the data to analyse the event.\n",
    "<br> __data_type__ (string, defaults to 'l2'): 'll' = low latency, 'l1' = level 1 data, 'l2' = level 2 data for scientific research.\n",
    "<br> __plot_pa__ (bool, defauts to True): plots the pitch angle coverage for the event."
   ]
  },
  {
   "cell_type": "code",
   "execution_count": 6,
   "id": "3575b9fd",
   "metadata": {},
   "outputs": [
    {
     "name": "stdout",
     "output_type": "stream",
     "text": [
      "Creating new directory /home/annafed/Documents/event_analysis/2022-04-15-0302\n",
      "2022-04-15-0302\n"
     ]
    }
   ],
   "source": [
    "start_date = date.date()\n",
    "enddate = date+timedelta(hours = 6)\n",
    "end_date = enddate.date()\n",
    "\n",
    "plot_start = str(date-timedelta(hours = 6))[:-3].replace(' ', '-').replace(':', '')\n",
    "plot_end = str(date+timedelta(hours = 6))[:-3].replace(' ', '-').replace(':', '')\n",
    "\n",
    "\n",
    "t_inj = str(date)[:-3].replace(' ', '-').replace(':', '')\n",
    "date_folder = t_inj\n",
    "#plot_path = path_to_folder\n",
    "#if create_sub_folders:\n",
    "#  create_new_path(path, t_inj)#, threshold_folders = threshold_folders, contamination_threshold = contamination_threshold, plots_n_data = plot_n_data_folders)\n",
    "#  path_to_folder = path+t_inj+'/'\n",
    "# plot_path = path_to_folder\n",
    "\n",
    "if contamination_threshold == None:\n",
    "    threshold_folders = False\n",
    "if create_sub_folders:\n",
    "    create_new_path(path, t_inj, threshold_folders = threshold_folders, contamination_threshold = contamination_threshold, plots_n_data = plot_n_data_folders)\n",
    "    path_to_folder = path+t_inj+'/'\n",
    "    plot_path = path_to_folder\n",
    "if threshold_folders:\n",
    "    path_to_folder = path_to_folder+'contamination_threshold_'+str(contamination_threshold)+'/'\n",
    "if plot_n_data_folders:\n",
    "    plot_path = path_to_folder+'plots'\n",
    " \n",
    "    \n",
    "# Need to subtract the light travel time at SolO distance because the Raul inj. times\n",
    "# in the STIX/EPD table are shifted from sun to SolO and I need inj. time at the Sun\n",
    "#t_inj = str(date-timedelta(minutes = position[4][2]))[:-3].replace(' ', '-').replace(':', '')\n",
    "t_inj = str(date-timedelta(minutes = 20))[:-3].replace(' ', '-').replace(':', '')\n",
    "\n",
    "print(date_folder)\n",
    "\n",
    "bg_start = None \n",
    "bg_end = None \n",
    "bg_distance_from_window = '90min'\n",
    "bg_period = '60min'\n",
    "\n",
    "travel_distance = position[0][2]\n",
    "travel_distance_second_slope = None\n",
    "fixed_window = '60min' #either input time period in minutes or None\n",
    "\n",
    "autodownload_data = True\n",
    "data_type = 'l2'\n",
    "plot_pa = True\n"
   ]
  },
  {
   "cell_type": "markdown",
   "id": "0368955f",
   "metadata": {},
   "source": [
    "#### INPUTS FOR THE FIT\n",
    "<br> __c1_guess__ (int or float, defaults to 1000): the flux value corresponding to 0.1 MeV\n",
    "<br> __g1_guess__ (int or float, defaults to -1.9): the slope of a single pl or the first part of a broken or triple pl. __g1_guess__ > __g2_guess__, __g3_guess__ and __g1_guess__< 0.\n",
    "<br> __g2_guess__ (int or float, defaults to -2.5): the slope of the broken pl after the break or the slope between the two breaks for a triple pl. __g1_guess__> __g2_guess__ >  __g3_guess__ and __g2_guess__< 0.\n",
    "<br> __g3_guess__ (int or float, defaults to -4): the slope of a triple pl after the second break. __g1_guess__, __g2_guess__ >  __g3_guess__ and __g3_guess__< 0.\n",
    "<br> __alpha_guess__ and __beta_guess__ (int or float, defaults to 10): the smoothness of the first and second break respectively.\n",
    "<br> __break_guess_low__ (int or float, defaults to 0.6 MeV): the energy corresponding to the first break in the spectrum (in MeV).\n",
    "<br>__break_guess_high__ (int or float, defaults to 1.2 MeV): the energy corresponding to the second break in the spectrum (in MeV).\n",
    "<br> __cut_guess__ (int or float, defaults to 1.2 MeV): the energy corresponding to the exponential cutoff in the spectrum (in MeV).\n",
    "<br> __fit_to__ (string, defaults to 'peak'): 'peak' or 'average'\n",
    "<br> __e_min__ and __e_max__ (int or float, defaults to None): minimum and maximum energy to fit. If None will automatically be taken as min and max fittable values. step energy range: 0.004323343613-0.07803193193 MeV, ept energy range: 0.03295087252-0.452730295 MeV, het energy range: 0.6859485403-10.62300288 MeV, second het channel: 1.590048112 MeV\n",
    "<br> __use_random__ (bool, defaults to True): if True the software will choose random values close to the guess values that will be fit to the data to find the fit with the lowest redchisq.\n",
    "<br> __random_iterations__ (int, defaults to 20): number of times the random values will be chosen.\n",
    "<br> __sigma__ (int, defaults to 3.): standard deviation from the background.\n",
    "<br> __rel_err__ (float, defaults to 0.5): The absolute value of the uncertainty of the bg subtracted flux peak divided by the bg subtracted peak.\n",
    "<br> __frac_nan_threshold__ (float, defaults to 0.9): exclude all spectrum values with fraction of non-nan data points in search window lower than the corresponding value.\n",
    "<br> __leave_out_1st_het_chan__ (bool, defaults to True): If True, the first HET channel will be left out from the fit.\n",
    "<br> __shift_step_data__ (bool, defaults to False): If True, STEP data will be shifted (up or down, intensity wise) by a factor equal to shift_factor.\n",
    "<br> __shift_factor__ (float, defaults to None): Factor to shift STEP data (e.g. 0.8). \n",
    "<br> __legend_details__ (bool, optional): If True, the final fit type and the reduced chi square will be dislayed in the legend.\n",
    "\t\n"
   ]
  },
  {
   "cell_type": "code",
   "execution_count": 7,
   "id": "444137b4",
   "metadata": {},
   "outputs": [],
   "source": [
    "c1_guess = 1000\n",
    "g1_guess = -1.9\n",
    "g2_guess = -2.5\n",
    "g3_guess = -4\n",
    "alpha_guess = 10\n",
    "beta_guess = 10\n",
    "break_guess_low = 0.6\n",
    "break_guess_high = 1.2\n",
    "cut_guess = 1.2\n",
    "\n",
    "fit_to = 'peak'\n",
    "\n",
    "e_min = None\n",
    "e_max = None\n",
    "\n",
    "use_random = True\n",
    "random_iterations = 20\n",
    "\n",
    "if saving:\n",
    "    save_fig = True\n",
    "    save_fit_variables = True\n",
    "    save_fitrun = True\n",
    "\n",
    "sigma = 3\n",
    "rel_err = 0.5\n",
    "frac_nan_threshold = 0.9\n",
    "leave_out_1st_het_chan = False\n",
    "shift_step_data = False\n",
    "shift_factor = None #0.8\n",
    "\n",
    "detailed_legend = True"
   ]
  },
  {
   "cell_type": "markdown",
   "id": "863a9d84",
   "metadata": {},
   "source": [
    "## LOAD DATA"
   ]
  },
  {
   "cell_type": "code",
   "execution_count": 8,
   "id": "f844737d",
   "metadata": {
    "scrolled": true
   },
   "outputs": [
    {
     "name": "stdout",
     "output_type": "stream",
     "text": [
      "Loading MAG...\n"
     ]
    }
   ],
   "source": [
    "if plot_pa:\n",
    "    msdate = dt.datetime.combine(pd.to_datetime(plot_start).date(), dt.time.min)\n",
    "    medate = dt.datetime.combine(pd.to_datetime(plot_end).date()+ dt.timedelta(days=1), dt.time.min) #+ dt.timedelta(days=1)\n",
    "\n",
    "    mag_srf = solo_mag_loader(msdate, medate, level='l2', frame='srf', av=None, path=path_to_folder)\n",
    "    "
   ]
  },
  {
   "cell_type": "code",
   "execution_count": 9,
   "id": "b4294ec9",
   "metadata": {},
   "outputs": [
    {
     "name": "stdout",
     "output_type": "stream",
     "text": [
      "Loading /home/annafed/Documents/event_analysis/2022-04-15-0302/l2/epd/step/solo_L2_epd-step-main_20220415_V01.cdf\n"
     ]
    }
   ],
   "source": [
    "if step:   \n",
    "    # read in STEP original data to df_particles_step_org. electron fluxes calculated later with calc_electrons\n",
    "    df_particles_step_org, energies_step = epd_load(sensor='step', level='l2', startdate=start_date, \n",
    "                                                    enddate=end_date, path=path_to_folder, autodownload=True, \n",
    "                                                    only_averages=True)"
   ]
  },
  {
   "cell_type": "code",
   "execution_count": 10,
   "id": "41d66115",
   "metadata": {},
   "outputs": [],
   "source": [
    "#df_particles_step"
   ]
  },
  {
   "cell_type": "code",
   "execution_count": 11,
   "id": "ba7d9aba",
   "metadata": {},
   "outputs": [],
   "source": [
    "if ept:\n",
    "    df_protons_ept, df_electrons_ept, energies_ept = epd_load(sensor = 'ept', viewing = direction, level = 'l2',\n",
    "                                                                  startdate = start_date, enddate = end_date, \n",
    "                                                                  path=path_to_folder, autodownload=True)\n",
    "    "
   ]
  },
  {
   "cell_type": "code",
   "execution_count": 12,
   "id": "c9b67f92",
   "metadata": {},
   "outputs": [],
   "source": [
    "if het:  \n",
    "    df_protons_het, df_electrons_het, energies_het = epd_load(sensor = 'het', viewing = direction, level = 'l2',\n",
    "                                                            startdate = start_date, enddate = end_date, \n",
    "                                                            path=path_to_folder, autodownload=True)\n",
    "   "
   ]
  },
  {
   "cell_type": "code",
   "execution_count": null,
   "id": "c0c2bee3",
   "metadata": {},
   "outputs": [],
   "source": []
  },
  {
   "cell_type": "markdown",
   "id": "b033b936",
   "metadata": {},
   "source": [
    "## STEP"
   ]
  },
  {
   "cell_type": "code",
   "execution_count": null,
   "id": "4fdefe35",
   "metadata": {
    "scrolled": false
   },
   "outputs": [
    {
     "name": "stderr",
     "output_type": "stream",
     "text": [
      "/home/annafed/Documents/GitHub/SolOEPD-Plot-n-Fit-SEE/epd_plot_shift.py:814: FutureWarning: Passing method to DatetimeIndex.get_loc is deprecated and will raise in a future version. Use index.get_indexer([item], method=...) instead.\n",
      "  timestamp_loc = df_electron_uncertainties['Electron_Uncertainty_{}'.format(channel)].index.get_loc(peak_timestamp, method='nearest')\n"
     ]
    },
    {
     "name": "stdout",
     "output_type": "stream",
     "text": [
      "Calculating PA coverage for step...\n",
      "Opening of STEP just a placeholder! Replace with real value! This affects the 'min' and 'max' values of the pitch-angle, not the 'center' ones.\n"
     ]
    },
    {
     "name": "stderr",
     "output_type": "stream",
     "text": [
      "100%|██████████| 8640/8640 [00:02<00:00, 2966.26it/s]\n"
     ]
    }
   ],
   "source": [
    "if step:\n",
    "    # calculate resampled STEP electron fluxes (+ ions)\n",
    "    df_particles_step = calc_electrons(df=df_particles_step_org, meta=energies_step, \n",
    "                                       contamination_threshold=contamination_threshold, only_averages=True,\n",
    "                                       resample=averaging)\n",
    "    data_step = extract_electron_data(df_particles_step, energies_step, plot_start, plot_end, t_inj, \n",
    "                                      bgstart = bg_start , bgend = bg_end, bg_distance_from_window = bg_distance_from_window, \n",
    "                                      bg_period = bg_period, travel_distance = travel_distance, \n",
    "                                      travel_distance_second_slope = travel_distance_second_slope, fixed_window = fixed_window, \n",
    "                                      instrument = 'step', data_type = 'l2', averaging=averaging, \n",
    "                                      masking=False)\n",
    "    if plot_pa:\n",
    "        if averaging is not None:\n",
    "            mag_srf = mag_srf.resample(averaging).mean()\n",
    "        coverage = calc_pa_coverage('step', mag_srf)\n",
    "\n",
    "    if saving: write_to_csv(data_step, path=path_to_folder)\n",
    "    bg_b = bg_subtraction\n",
    "    plot_channels(data_step, bg_subtraction=bg_b, path=plot_path, savefig=saving, plot_pa=plot_pa, coverage=coverage, sensor = 'step', sigma = sigma, frac_nan_threshold = frac_nan_threshold, rel_err_threshold = rel_err)\n",
    "    bg_b = bg_subtraction\n",
    "    plot_spectrum_peak(data_step, bg_subtraction=bg_b, path=plot_path, savefig=saving, sigma = sigma, frac_nan_threshold = frac_nan_threshold, rel_err_threshold= rel_err, direction = direction)\n",
    "    #plot_spectrum_average(data_step, bg_subtraction=bg_b, savefig=saving, path=path_to_folder, sigma=sigma, frac_nan_threshold=frac_nan_threshold, rel_err_threshold=rel_err, direction=direction)\n",
    "    \n"
   ]
  },
  {
   "cell_type": "markdown",
   "id": "daa0222f",
   "metadata": {},
   "source": [
    "## EPT"
   ]
  },
  {
   "cell_type": "code",
   "execution_count": null,
   "id": "88bf3bfe",
   "metadata": {
    "scrolled": true
   },
   "outputs": [],
   "source": [
    "if ept:\n",
    "    ion_b = ion_correction    \n",
    "    data_ept = extract_electron_data(df_electrons_ept, energies_ept, plot_start, plot_end, t_inj, bgstart = bg_start, \n",
    "                                     bgend = bg_end, bg_distance_from_window = bg_distance_from_window, bg_period = bg_period, \n",
    "                                     travel_distance = travel_distance, travel_distance_second_slope=travel_distance_second_slope, \n",
    "                                     fixed_window=fixed_window, instrument = 'ept', data_type = 'l2', averaging=averaging, masking=True, \n",
    "                                     ion_conta_corr=ion_b, df_protons = df_protons_ept)\n",
    "\n",
    "    \n",
    "    if plot_pa:\n",
    "        mag_srf = mag_srf.resample(averaging).mean()\n",
    "        coverage = calc_pa_coverage('ept', mag_srf)\n",
    "    else:\n",
    "        coverage = None\n",
    "\n",
    "    if saving: write_to_csv(data_ept, path=path_to_folder)\n",
    "    bg_b = bg_subtraction\n",
    "    plot_channels(data_ept, bg_subtraction=bg_b, path=plot_path, savefig=saving, plot_pa=plot_pa, coverage=coverage, sensor = 'ept', sigma = sigma, frac_nan_threshold = frac_nan_threshold, rel_err_threshold = rel_err, viewing = direction)\n",
    "    bg_b = bg_subtraction\n",
    "    plot_spectrum_peak(data_ept, bg_subtraction=bg_b, path=plot_path, savefig=saving, sigma = sigma, frac_nan_threshold = frac_nan_threshold, rel_err_threshold = rel_err, direction = direction) \n",
    "    #plot_spectrum_average(data_ept, bg_subtraction=bg_b, path=path_to_folder, savefig=saving, frac_nan_threshold=frac_nan_threshold)      \n"
   ]
  },
  {
   "cell_type": "markdown",
   "id": "16d2a01c",
   "metadata": {},
   "source": [
    "## HET"
   ]
  },
  {
   "cell_type": "code",
   "execution_count": null,
   "id": "d6345970",
   "metadata": {
    "scrolled": true
   },
   "outputs": [],
   "source": [
    "if het:\n",
    "    data_het = extract_electron_data(df_electrons_het, energies_het, plot_start, plot_end, t_inj, \n",
    "                                     bgstart = bg_start, bgend = bg_end,  bg_distance_from_window = bg_distance_from_window,\n",
    "                                     bg_period = bg_period, travel_distance = travel_distance, \n",
    "                                     travel_distance_second_slope = travel_distance_second_slope, \n",
    "                                     fixed_window = fixed_window, instrument='het', data_type='l2', \n",
    "                                     averaging=averaging, df_protons = df_protons_het)\n",
    "\n",
    "    if plot_pa:\n",
    "        mag_srf = mag_srf.resample(averaging).mean()\n",
    "        coverage = calc_pa_coverage('het', mag_srf)\n",
    "\n",
    "    if saving: write_to_csv(data_het, path=path_to_folder)\n",
    "    bg_b = bg_subtraction\n",
    "    plot_channels(data_het, bg_subtraction=bg_b, path=plot_path, savefig=saving, plot_pa=plot_pa, coverage=coverage, sensor = 'het', sigma = sigma, frac_nan_threshold = frac_nan_threshold, rel_err_threshold = rel_err, viewing = direction)\n",
    "    bg_b = bg_subtraction\n",
    "    plot_spectrum_peak(data_het, bg_subtraction=bg_b, path=plot_path, savefig=saving, sigma = sigma, frac_nan_threshold = frac_nan_threshold, rel_err_threshold = rel_err, direction = direction)\n"
   ]
  },
  {
   "cell_type": "markdown",
   "id": "1aa2d11e",
   "metadata": {},
   "source": [
    "## FIT"
   ]
  },
  {
   "cell_type": "code",
   "execution_count": null,
   "id": "58af7765",
   "metadata": {},
   "outputs": [],
   "source": [
    "c1_guess = 1000\n",
    "g1_guess = -1.9\n",
    "g2_guess = -2.5\n",
    "g3_guess = -4\n",
    "alpha_guess = 10\n",
    "beta_guess = 10\n",
    "break_guess_low = 0.6\n",
    "break_guess_high = 1.2\n",
    "cut_guess = 1.2\n",
    "\n",
    "fit_to = 'peak'\n",
    "\n",
    "e_min = None\n",
    "e_max = None\n",
    "\n",
    "which_fit = 'best'\n",
    "detailed_legend = True"
   ]
  },
  {
   "cell_type": "code",
   "execution_count": null,
   "id": "d79ad90a",
   "metadata": {
    "scrolled": false
   },
   "outputs": [],
   "source": [
    "FIT_DATA(path_to_folder, date, averaging = averaging, fit_type= fit_type, step = step, ept = ept, het = het, \n",
    "         which_fit = which_fit, sigma = sigma, rel_err = rel_err, frac_nan_threshold = frac_nan_threshold, fit_to = fit_to, \n",
    "         e_min = e_min, e_max = e_max, g1_guess = g1_guess, g2_guess = g2_guess, g3_guess = g3_guess, c1_guess = c1_guess, \n",
    "         alpha_guess = alpha_guess, beta_guess = beta_guess, break_guess_low = break_guess_low, break_guess_high = break_guess_high, cut_guess = cut_guess, \n",
    "         use_random = use_random, iterations = random_iterations, leave_out_1st_het_chan = leave_out_1st_het_chan, shift_step_data = shift_step_data, \n",
    "         shift_factor = shift_factor, save_fig = saving, save_pickle = False, save_fit_variables = saving, save_fitrun = saving, legend_details = detailed_legend, \n",
    "         ion_correction = ion_correction, bg_subtraction = bg_subtraction, fit_to_separate_folder = plot_n_data_folders)\n"
   ]
  },
  {
   "cell_type": "code",
   "execution_count": null,
   "id": "b02652f3",
   "metadata": {},
   "outputs": [],
   "source": [
    "path"
   ]
  },
  {
   "cell_type": "code",
   "execution_count": null,
   "id": "15eb3c2f",
   "metadata": {},
   "outputs": [],
   "source": [
    "#if averaging<1.:\n",
    " #   averaging = str(int(averaging*60))+'s'\n",
    "#else:\n",
    " #   averaging = str(averaging)+'min'\n",
    "\n",
    "if save_fit_run_variables_to_separate_folders:\n",
    "    fit_var_file = date_folder+'-fit-result-variables_'+fit_type+'-'+fit_to+'-'+which_fit+'-l2-'+averaging+'-'+direction+'.csv'\n",
    "    run_var_file = date_folder+'-all-fit-variables_'+fit_type+'-'+fit_to+'-'+which_fit+'-l2-'+averaging+'-'+direction+'.csv'\n",
    "\n",
    "    save_fit_and_run_variables_to_separate_folders(path, date_folder, fit_var_file, run_var_file)\n",
    "    "
   ]
  },
  {
   "cell_type": "code",
   "execution_count": null,
   "id": "69b5828b",
   "metadata": {},
   "outputs": [],
   "source": []
  },
  {
   "cell_type": "code",
   "execution_count": null,
   "id": "9864c57a",
   "metadata": {},
   "outputs": [],
   "source": []
  },
  {
   "cell_type": "code",
   "execution_count": null,
   "id": "24acf3ff",
   "metadata": {},
   "outputs": [],
   "source": []
  },
  {
   "cell_type": "code",
   "execution_count": null,
   "id": "69a51455",
   "metadata": {},
   "outputs": [],
   "source": []
  },
  {
   "cell_type": "code",
   "execution_count": null,
   "id": "2e6e9e21",
   "metadata": {},
   "outputs": [],
   "source": []
  }
 ],
 "metadata": {
  "kernelspec": {
   "display_name": "Python 3 (ipykernel)",
   "language": "python",
   "name": "python3"
  },
  "language_info": {
   "codemirror_mode": {
    "name": "ipython",
    "version": 3
   },
   "file_extension": ".py",
   "mimetype": "text/x-python",
   "name": "python",
   "nbconvert_exporter": "python",
   "pygments_lexer": "ipython3",
   "version": "3.10.4"
  }
 },
 "nbformat": 4,
 "nbformat_minor": 5
}
